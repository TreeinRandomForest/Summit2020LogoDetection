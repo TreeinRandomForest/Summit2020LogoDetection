{
 "cells": [
  {
   "cell_type": "code",
   "execution_count": 1,
   "metadata": {},
   "outputs": [],
   "source": [
    "%load_ext autoreload\n",
    "%autoreload 2\n",
    "%matplotlib inline"
   ]
  },
  {
   "cell_type": "code",
   "execution_count": null,
   "metadata": {},
   "outputs": [],
   "source": [
    "!pip install -U 'git+https://github.com/cocodataset/cocoapi.git#subdirectory=PythonAPI'"
   ]
  },
  {
   "cell_type": "code",
   "execution_count": 2,
   "metadata": {},
   "outputs": [],
   "source": [
    "!env | grep PYTHONPATH"
   ]
  },
  {
   "cell_type": "code",
   "execution_count": 3,
   "metadata": {},
   "outputs": [],
   "source": [
    "import numpy as np\n",
    "import matplotlib.pylab as plt\n",
    "import detectron2\n",
    "import cv2\n",
    "import os\n",
    "import pathlib\n",
    "import json\n",
    "import random\n",
    "from PIL import Image, ImageDraw2\n",
    "import pandas as pd\n",
    "import torchvision\n",
    "from torchvision import transforms\n",
    "import torch\n",
    "import shutil\n",
    "import glob"
   ]
  },
  {
   "cell_type": "code",
   "execution_count": 18,
   "metadata": {},
   "outputs": [],
   "source": [
    "from detectron2.utils.logger import setup_logger\n",
    "from detectron2 import model_zoo\n",
    "from detectron2.engine import DefaultTrainer, DefaultPredictor\n",
    "from detectron2.config import get_cfg\n",
    "from detectron2.utils.visualizer import Visualizer\n",
    "from detectron2.data import DatasetCatalog, MetadataCatalog\n",
    "from detectron2.structures import BoxMode\n",
    "from detectron2.evaluation import COCOEvaluator, inference_on_dataset\n",
    "from detectron2.data import build_detection_train_loader, build_detection_test_loader"
   ]
  },
  {
   "cell_type": "markdown",
   "metadata": {},
   "source": [
    "### Steps\n",
    "\n",
    "* dataset generation with one logo\n",
    "    *  logo -> transform -> overlay on background. bbox known (img dimensions)\n",
    "    \n",
    "    * logo with bbox -> transform img and bbox (imgaug)\n",
    "\n",
    "* exporting to onnx and make it work with existing code"
   ]
  },
  {
   "cell_type": "markdown",
   "metadata": {},
   "source": [
    "## Dataset Generation\n",
    "\n",
    "* Offline\n",
    "\n",
    "    * Generate N arbitrary colored backgrounds (DONE)\n",
    "\n",
    "    * Transform transparent logo (DONE)\n",
    "    \n",
    "    * Overlay transformed and transparent logo onto background (DONE)\n",
    "    \n",
    "    * Save image and bounding box (DONE)"
   ]
  },
  {
   "cell_type": "code",
   "execution_count": null,
   "metadata": {},
   "outputs": [],
   "source": [
    "def generate_background_image(color_center, color_edge, size=(512,512)):\n",
    "    #distance calculation\n",
    "    row_idx = np.repeat(np.arange(0, size[0]), size[1], axis=0).reshape(size)\n",
    "    col_idx = np.repeat(np.arange(0, size[1]), size[0], axis=0).reshape((size[1], size[0])).T    \n",
    "    \n",
    "    center = (size[0]/2, size[1]/2)\n",
    "    dist = np.zeros(size)\n",
    "    dist = np.sqrt((row_idx - center[0])**2 + (col_idx - center[1])**2)\n",
    "    max_dist = np.max(dist)\n",
    "    dist /= max_dist    \n",
    "    \n",
    "    #colors\n",
    "    r = color_edge[0] * dist + color_center[0] * (1-dist)\n",
    "    g = color_edge[1] * dist + color_center[1] * (1-dist)\n",
    "    b = color_edge[2] * dist + color_center[2] * (1-dist)    \n",
    "    \n",
    "    #check artifacts with Image.fromarray()\n",
    "    img = Image.new('RGBA', size)\n",
    "    for y in range(size[1]):\n",
    "        for x in range(size[0]):\n",
    "            img.putpixel((x,y), (int(r[x,y]), int(g[x,y]), int(b[x,y])))\n",
    "    \n",
    "    return img\n",
    "\n",
    "def retrieve_background_image(LOC):\n",
    "    raise NotImplementedError\n",
    "\n",
    "def make_logo_transparent(logo, threshold_color=[200,200,200]):\n",
    "    logo = logo.convert('RGBA')\n",
    "    data = logo.getdata()\n",
    "    \n",
    "    data_alpha = []\n",
    "    for pixel in data:\n",
    "        #if pixel[0]>200 and pixel[1]>200 and pixel[2]>200:\n",
    "        if pixel[0]>threshold_color[0] and pixel[1] > threshold_color[1] and pixel[2] > threshold_color[2]:\n",
    "            data_alpha.append((pixel[0], pixel[1], pixel[2], 0))\n",
    "            #data_alpha.append((0,255,0,0))\n",
    "        else:\n",
    "            data_alpha.append((pixel[0], pixel[1], pixel[2], pixel[3]))\n",
    "        \n",
    "    logo.putdata(data_alpha)\n",
    "    \n",
    "    return logo"
   ]
  },
  {
   "cell_type": "code",
   "execution_count": null,
   "metadata": {},
   "outputs": [],
   "source": [
    "logo = Image.open('RHLOGO.jpg')\n",
    "logo = make_logo_transparent(logo)\n",
    "logo"
   ]
  },
  {
   "cell_type": "code",
   "execution_count": null,
   "metadata": {},
   "outputs": [],
   "source": [
    "logo = Image.open('ANACONDALOGO.jpg')\n",
    "logo = make_logo_transparent(logo)\n",
    "logo = logo.resize((128,128))\n",
    "logo"
   ]
  },
  {
   "cell_type": "code",
   "execution_count": null,
   "metadata": {},
   "outputs": [],
   "source": [
    "logo = Image.open('CLOUDERALOGO.jpg')\n",
    "logo = make_logo_transparent(logo)\n",
    "logo = logo.resize((128,128))\n",
    "logo"
   ]
  },
  {
   "cell_type": "code",
   "execution_count": null,
   "metadata": {},
   "outputs": [],
   "source": [
    "img = generate_background_image((0,80,0), (0,0,80), size=(256,256))\n",
    "img"
   ]
  },
  {
   "cell_type": "code",
   "execution_count": null,
   "metadata": {},
   "outputs": [],
   "source": [
    "#test overlay\n",
    "img_new = img.copy()\n",
    "img_new.paste(logo, (50,50), logo)\n",
    "img_new"
   ]
  },
  {
   "cell_type": "code",
   "execution_count": null,
   "metadata": {},
   "outputs": [],
   "source": [
    "img_new = img.copy()\n",
    "logo_tfs = torchvision.transforms.Grayscale()(logo)\n",
    "\n",
    "img_new.paste(logo_tfs, (50,50), logo)\n",
    "img_new"
   ]
  },
  {
   "cell_type": "code",
   "execution_count": null,
   "metadata": {},
   "outputs": [],
   "source": [
    "img_new = img.copy()\n",
    "logo_tfs = torchvision.transforms.RandomAffine(45, translate=(0.1,0.1), scale=(1,1), shear=10)(logo)\n",
    "\n",
    "img_new.paste(logo_tfs, (50,50), logo_tfs)\n",
    "img_new\n"
   ]
  },
  {
   "cell_type": "code",
   "execution_count": null,
   "metadata": {},
   "outputs": [],
   "source": [
    "def generate_augmented_image(size=(512,512),\n",
    "                             logo_file='CLOUDERALOGO.jpg',\n",
    "                             N_tfms_to_apply=2,\n",
    "                             low_frac=0.30,\n",
    "                             high_frac=0.90):\n",
    "        \n",
    "    logo = Image.open(logo_file) #inefficient to open N times but okay for now\n",
    "\n",
    "    #logo\n",
    "    #step 1: get resize parameters\n",
    "    #low_frac = 0.30\n",
    "    #high_frac = 0.90\n",
    "    frac0 = (np.random.random()*(high_frac-low_frac) + low_frac)\n",
    "    frac1 = (np.random.random()*(high_frac-low_frac) + low_frac)\n",
    "    logo_size = (int(frac0*size[0]), int(frac1*size[1]))\n",
    "\n",
    "    #logo_size = (128,128) #introduce some randomness\n",
    "\n",
    "    #step 2: get mask and apply resizing\n",
    "    logo = make_logo_transparent(logo)\n",
    "    logo = logo.resize(logo_size)\n",
    "\n",
    "    #step 3: apply transformations\n",
    "    tfms_list = [                \n",
    "                    transforms.RandomRotation(45, expand=False, fill=255),\n",
    "                    #transforms.RandomAffine(0, translate=(0.3,0.3)), #for truncations\n",
    "                    transforms.RandomAffine(0, shear=(30,30))\n",
    "                ]\n",
    "\n",
    "    N_tfms = len(tfms_list)\n",
    "\n",
    "    logo_tfms = logo.copy()\n",
    "    for i in range(N_tfms_to_apply): #apply N transformations\n",
    "        logo_tfms = tfms_list[np.random.randint(N_tfms)](logo_tfms)\n",
    "        #logo_tfms = make_logo_transparent(logo_tfms)\n",
    "\n",
    "    logo_tfms = make_logo_transparent(logo_tfms)\n",
    "\n",
    "    #step 4: background image \n",
    "    colors = [(255,0,0), (0,255,0), (0,0,255), (128,0,0), (0,128,0), (0,0,128), \n",
    "              (0,0,0), (255,255,255), (128,128,128),        \n",
    "              (255,255,0), (255,0,255), (0,255,255), (128,128,0), (128,0,128), (0,128,128)]\n",
    "    N_colors = len(colors)\n",
    "\n",
    "    colors_picked = np.array(colors)[np.random.randint(0, N_colors, size=2)]\n",
    "\n",
    "    bkg = generate_background_image(colors_picked[0], colors_picked[1], size=size)\n",
    "\n",
    "    #step 5: superimpose at random locations (actual translations)\n",
    "    location_x = [0, bkg.size[0]-logo.size[0]]\n",
    "    location_y = [0, bkg.size[1]-logo.size[1]]\n",
    "\n",
    "    loc = (np.random.randint(*location_x), np.random.randint(*location_y))\n",
    "\n",
    "    bkg.paste(logo_tfms, loc, logo_tfms)\n",
    "    \n",
    "    return bkg, (*size, *loc, loc[0] + logo_size[0], loc[1] + logo_size[1])"
   ]
  },
  {
   "cell_type": "code",
   "execution_count": null,
   "metadata": {},
   "outputs": [],
   "source": [
    "def visualize_bbox(img, bbox):\n",
    "    img_copy = img.copy()\n",
    "    draw = ImageDraw.Draw(img_copy)\n",
    "    \n",
    "    draw.rectangle([(bbox[2],bbox[3]), (bbox[4],bbox[5])], outline=128)\n",
    "    \n",
    "    return img_copy"
   ]
  },
  {
   "cell_type": "code",
   "execution_count": null,
   "metadata": {},
   "outputs": [],
   "source": [
    "def generate_random_string(N=6):\n",
    "    return ''.join([chr(i) for i in np.random.randint(97,122,size=N)])\n",
    "\n",
    "def generate_augmented_dataset(N_images,\n",
    "                               size=(512,512),\n",
    "                               low_frac=0.30,\n",
    "                               high_frac=0.90,\n",
    "                               logo_file='CLOUDERALOGO.jpg',\n",
    "                               N_tfms_to_apply=2,\n",
    "                               seed=None,\n",
    "                               save_loc=None,\n",
    "                               logo_name=None):\n",
    "    \n",
    "    if seed is not None: #should really figure out all torch seeds\n",
    "        np.random.seed(seed)\n",
    "        torch.backends.cudnn.deterministic = True\n",
    "        torch.manual_seed(seed)\n",
    "        torch.cuda.manual_seed(seed)    \n",
    "    else:\n",
    "        torch.backends.cudnn.deterministic = False\n",
    "    \n",
    "    img_list, bbox_list = [], []\n",
    "    for i in range(N_images):\n",
    "        img, bbox = generate_augmented_image(size, \n",
    "                                             logo_file, \n",
    "                                             N_tfms_to_apply,\n",
    "                                             low_frac=low_frac,\n",
    "                                             high_frac=high_frac)\n",
    "        img_list.append(img)\n",
    "        bbox_list.append(bbox)\n",
    "        \n",
    "    if save_loc is not None:\n",
    "        if not os.path.exists(save_loc):\n",
    "            pathlib.Path(save_loc).mkdir(parents=True, exist_ok=True)\n",
    "        if logo_name is None:\n",
    "            raise ValueError(\"Please enter logo_name if saving images\")\n",
    "                \n",
    "        csv_fields = {'filename': [],\n",
    "                      'width': [],\n",
    "                      'height': [],\n",
    "                      'class': [],\n",
    "                      'xmin': [],\n",
    "                      'ymin': [],\n",
    "                      'xmax': [],\n",
    "                      'ymax': []}\n",
    "                \n",
    "        for img, bbox in zip(img_list, bbox_list):\n",
    "            img_name = f'{logo_name}_{generate_random_string()}.png'\n",
    "            img.save(os.path.join(save_loc, img_name))\n",
    "            \n",
    "            csv_fields['filename'].append(os.path.join(save_loc, img_name))\n",
    "            csv_fields['width'].append(bbox[0])\n",
    "            csv_fields['height'].append(bbox[1])\n",
    "            csv_fields['class'].append(logo_name)\n",
    "            csv_fields['xmin'].append(bbox[2])\n",
    "            csv_fields['ymin'].append(bbox[3])\n",
    "            csv_fields['xmax'].append(bbox[4])\n",
    "            csv_fields['ymax'].append(bbox[5])\n",
    "            \n",
    "        pd.DataFrame(csv_fields).to_csv(os.path.join(save_loc, f'{logo_name}.csv'), index=False)\n",
    "    else:\n",
    "        csv_fields = None\n",
    "        \n",
    "    return img_list, bbox_list, csv_fields"
   ]
  },
  {
   "cell_type": "code",
   "execution_count": null,
   "metadata": {},
   "outputs": [],
   "source": [
    "img_list, bbox_list, csv_fields = generate_augmented_dataset(128, \n",
    "                                                             low_frac=0.20,\n",
    "                                                             high_frac=0.40,\n",
    "                                                             logo_file='RHLOGO.jpg',\n",
    "                                                             save_loc='rhlogo/train',\n",
    "                                                             logo_name='rhlogo')\n",
    "img_list, bbox_list, csv_fields = generate_augmented_dataset(128, \n",
    "                                                             low_frac=0.20,\n",
    "                                                             high_frac=0.40,\n",
    "                                                             logo_file='RHLOGO.jpg',\n",
    "                                                             save_loc='rhlogo/test',\n",
    "                                                             logo_name='rhlogo')"
   ]
  },
  {
   "cell_type": "code",
   "execution_count": null,
   "metadata": {},
   "outputs": [],
   "source": [
    "#convert csv to json\n",
    "!python convert_csv_to_detectron.py rhlogo/train/rhlogo.csv rhlogo/train/data.json\n",
    "!python convert_csv_to_detectron.py rhlogo/test/rhlogo.csv rhlogo/test/data.json"
   ]
  },
  {
   "cell_type": "markdown",
   "metadata": {},
   "source": [
    "## Train Model"
   ]
  },
  {
   "cell_type": "markdown",
   "metadata": {},
   "source": [
    "### Helper Functions"
   ]
  },
  {
   "cell_type": "code",
   "execution_count": 5,
   "metadata": {},
   "outputs": [],
   "source": [
    "def get_dicts(IMG_DIR):\n",
    "    '''Returns a list of dicts - one for each image\n",
    "    Each dict contains labels and bounding boxes\n",
    "    \n",
    "    Each folder (train, val, test) contains a data.json file\n",
    "    '''\n",
    "\n",
    "    path = os.path.join(IMG_DIR, 'data.json')\n",
    "    dataset_dict = json.load(open(path))\n",
    "    \n",
    "    #this is hacky but replace boxmode (add enum encoder/decoder)\n",
    "    for item in dataset_dict:\n",
    "        for ann in item['annotations']:\n",
    "            ann['bbox_mode'] = BoxMode.XYXY_ABS    \n",
    "\n",
    "    return dataset_dict\n",
    "\n",
    "def register(IMG_DIR, class_names, subfolders=['train', 'test']):\n",
    "    '''Register datasets for detectron2\n",
    "    '''\n",
    "\n",
    "    for d in subfolders:\n",
    "        DatasetCatalog.register(f\"{IMG_DIR}_{d}\", lambda d=d: get_dicts(f'{IMG_DIR}/{d}'))\n",
    "        MetadataCatalog.get(f\"{IMG_DIR}_{d}\").set(thing_classes=class_names)\n",
    "\n",
    "def get_metadata(dataset_name):\n",
    "    metadata = MetadataCatalog.get(dataset_name)\n",
    "\n",
    "    return metadata        \n",
    "\n",
    "def sample_plot(dataset_dict, metadata, LOC):\n",
    "    #LOC = 'logos3/train'\n",
    "\n",
    "    d = random.sample(dataset_dict, 1)[0]\n",
    "    print(d)\n",
    "    img = cv2.imread(os.path.join(LOC, d[\"file_name\"]))\n",
    "    visualizer = Visualizer(img[:, :, ::-1], metadata=metadata, scale=0.5)\n",
    "    vis = visualizer.draw_dataset_dict(d)\n",
    "    plt.imshow(vis.get_image()[:, :, ::-1])\n",
    "    \n",
    "def prepare_for_training(N_iter,\n",
    "                         output_dir,\n",
    "                         train_dataset_name,\n",
    "                         N_classes,\n",
    "                         start_training=False):\n",
    "    cfg = get_cfg()\n",
    "    cfg.merge_from_file(model_zoo.get_config_file(\"COCO-Detection/faster_rcnn_R_50_C4_1x.yaml\"))\n",
    "    cfg.OUTPUT_DIR = output_dir\n",
    "    cfg.DATASETS.TRAIN = (train_dataset_name,)\n",
    "    cfg.DATASETS.TEST = ()\n",
    "    cfg.DATALOADER.NUM_WORKERS = 2\n",
    "    cfg.MODEL.WEIGHTS = model_zoo.get_checkpoint_url(\"COCO-Detection/faster_rcnn_R_50_C4_1x.yaml\")  # Let training initialize from model zoo\n",
    "    cfg.SOLVER.IMS_PER_BATCH = 2\n",
    "    cfg.SOLVER.BASE_LR = 0.00025  # pick a good LR\n",
    "    cfg.SOLVER.MAX_ITER = N_iter    # 300 iterations seems good enough for this toy dataset; you may need to train longer for a practical dataset\n",
    "    cfg.MODEL.ROI_HEADS.BATCH_SIZE_PER_IMAGE = 128   # faster, and good enough for this toy dataset (default: 512)\n",
    "    cfg.MODEL.ROI_HEADS.NUM_CLASSES = N_classes  # 4 classes\n",
    "\n",
    "    os.makedirs(cfg.OUTPUT_DIR, exist_ok=True)\n",
    "    trainer = DefaultTrainer(cfg)\n",
    "    trainer.resume_or_load(resume=False)\n",
    "\n",
    "    if start_training:\n",
    "        trainer.train()\n",
    "\n",
    "    return trainer, cfg    \n",
    "\n",
    "def prepare_for_inference(cfg, test_dataset_name, threshold=0.70):\n",
    "    print(f\"Reading weights from output dir: {cfg.OUTPUT_DIR}\")\n",
    "    cfg.MODEL.WEIGHTS = os.path.join(cfg.OUTPUT_DIR, \"model_final.pth\")\n",
    "    cfg.MODEL.ROI_HEADS.SCORE_THRESH_TEST = threshold   # set the testing threshold for this model\n",
    "    cfg.DATASETS.TEST = (test_dataset_name, )\n",
    "    predictor = DefaultPredictor(cfg)    \n",
    "\n",
    "    return predictor\n",
    "\n",
    "def infer_img(predictor, img_filename, metadata):\n",
    "    img = cv2.imread(img_filename)\n",
    "    outputs = predictor(img)\n",
    "\n",
    "    v = Visualizer(img[:,:,::-1], metadata=metadata, scale=0.8)\n",
    "    v = v.draw_instance_predictions(outputs[\"instances\"].to(\"cpu\"))\n",
    "    plt.imshow(v.get_image())\n",
    "    \n",
    "    return outputs"
   ]
  },
  {
   "cell_type": "code",
   "execution_count": 6,
   "metadata": {},
   "outputs": [],
   "source": [
    "DatasetCatalog.clear()\n",
    "MetadataCatalog._NAME_TO_META = {}"
   ]
  },
  {
   "cell_type": "code",
   "execution_count": 7,
   "metadata": {},
   "outputs": [],
   "source": [
    "rhlogo_train = get_dicts('rhlogo/train')\n",
    "register('rhlogo', ['rhlogo'], ['train', 'test'])\n",
    "rhlogo_train_metadata = get_metadata('rhlogo_train')"
   ]
  },
  {
   "cell_type": "code",
   "execution_count": 8,
   "metadata": {},
   "outputs": [
    {
     "name": "stdout",
     "output_type": "stream",
     "text": [
      "{'image_id': 16, 'file_name': 'rhlogo/train/rhlogo_cuaxkv.png', 'height': 512, 'width': 512, 'annotations': [{'bbox': [267, 113, 468, 296], 'bbox_mode': <BoxMode.XYXY_ABS: 0>, 'category_id': 0}]}\n"
     ]
    },
    {
     "data": {
      "image/png": "[encoded data removed]",
      "text/plain": [
       "<Figure size 432x288 with 1 Axes>"
      ]
     },
     "metadata": {
      "needs_background": "light"
     },
     "output_type": "display_data"
    }
   ],
   "source": [
    "sample_plot(rhlogo_train, rhlogo_train_metadata, './')"
   ]
  },
  {
   "cell_type": "code",
   "execution_count": 9,
   "metadata": {
    "scrolled": true
   },
   "outputs": [
    {
     "name": "stdout",
     "output_type": "stream",
     "text": [
      "\u001b[32m[03/10 20:09:45 d2.engine.defaults]: \u001b[0mModel:\n",
      "GeneralizedRCNN(\n",
      "  (backbone): ResNet(\n",
      "    (stem): BasicStem(\n",
      "      (conv1): Conv2d(\n",
      "        3, 64, kernel_size=(7, 7), stride=(2, 2), padding=(3, 3), bias=False\n",
      "        (norm): FrozenBatchNorm2d(num_features=64, eps=1e-05)\n",
      "      )\n",
      "    )\n",
      "    (res2): Sequential(\n",
      "      (0): BottleneckBlock(\n",
      "        (shortcut): Conv2d(\n",
      "          64, 256, kernel_size=(1, 1), stride=(1, 1), bias=False\n",
      "          (norm): FrozenBatchNorm2d(num_features=256, eps=1e-05)\n",
      "        )\n",
      "        (conv1): Conv2d(\n",
      "          64, 64, kernel_size=(1, 1), stride=(1, 1), bias=False\n",
      "          (norm): FrozenBatchNorm2d(num_features=64, eps=1e-05)\n",
      "        )\n",
      "        (conv2): Conv2d(\n",
      "          64, 64, kernel_size=(3, 3), stride=(1, 1), padding=(1, 1), bias=False\n",
      "          (norm): FrozenBatchNorm2d(num_features=64, eps=1e-05)\n",
      "        )\n",
      "        (conv3): Conv2d(\n",
      "          64, 256, kernel_size=(1, 1), stride=(1, 1), bias=False\n",
      "          (norm): FrozenBatchNorm2d(num_features=256, eps=1e-05)\n",
      "        )\n",
      "      )\n",
      "      (1): BottleneckBlock(\n",
      "        (conv1): Conv2d(\n",
      "          256, 64, kernel_size=(1, 1), stride=(1, 1), bias=False\n",
      "          (norm): FrozenBatchNorm2d(num_features=64, eps=1e-05)\n",
      "        )\n",
      "        (conv2): Conv2d(\n",
      "          64, 64, kernel_size=(3, 3), stride=(1, 1), padding=(1, 1), bias=False\n",
      "          (norm): FrozenBatchNorm2d(num_features=64, eps=1e-05)\n",
      "        )\n",
      "        (conv3): Conv2d(\n",
      "          64, 256, kernel_size=(1, 1), stride=(1, 1), bias=False\n",
      "          (norm): FrozenBatchNorm2d(num_features=256, eps=1e-05)\n",
      "        )\n",
      "      )\n",
      "      (2): BottleneckBlock(\n",
      "        (conv1): Conv2d(\n",
      "          256, 64, kernel_size=(1, 1), stride=(1, 1), bias=False\n",
      "          (norm): FrozenBatchNorm2d(num_features=64, eps=1e-05)\n",
      "        )\n",
      "        (conv2): Conv2d(\n",
      "          64, 64, kernel_size=(3, 3), stride=(1, 1), padding=(1, 1), bias=False\n",
      "          (norm): FrozenBatchNorm2d(num_features=64, eps=1e-05)\n",
      "        )\n",
      "        (conv3): Conv2d(\n",
      "          64, 256, kernel_size=(1, 1), stride=(1, 1), bias=False\n",
      "          (norm): FrozenBatchNorm2d(num_features=256, eps=1e-05)\n",
      "        )\n",
      "      )\n",
      "    )\n",
      "    (res3): Sequential(\n",
      "      (0): BottleneckBlock(\n",
      "        (shortcut): Conv2d(\n",
      "          256, 512, kernel_size=(1, 1), stride=(2, 2), bias=False\n",
      "          (norm): FrozenBatchNorm2d(num_features=512, eps=1e-05)\n",
      "        )\n",
      "        (conv1): Conv2d(\n",
      "          256, 128, kernel_size=(1, 1), stride=(2, 2), bias=False\n",
      "          (norm): FrozenBatchNorm2d(num_features=128, eps=1e-05)\n",
      "        )\n",
      "        (conv2): Conv2d(\n",
      "          128, 128, kernel_size=(3, 3), stride=(1, 1), padding=(1, 1), bias=False\n",
      "          (norm): FrozenBatchNorm2d(num_features=128, eps=1e-05)\n",
      "        )\n",
      "        (conv3): Conv2d(\n",
      "          128, 512, kernel_size=(1, 1), stride=(1, 1), bias=False\n",
      "          (norm): FrozenBatchNorm2d(num_features=512, eps=1e-05)\n",
      "        )\n",
      "      )\n",
      "      (1): BottleneckBlock(\n",
      "        (conv1): Conv2d(\n",
      "          512, 128, kernel_size=(1, 1), stride=(1, 1), bias=False\n",
      "          (norm): FrozenBatchNorm2d(num_features=128, eps=1e-05)\n",
      "        )\n",
      "        (conv2): Conv2d(\n",
      "          128, 128, kernel_size=(3, 3), stride=(1, 1), padding=(1, 1), bias=False\n",
      "          (norm): FrozenBatchNorm2d(num_features=128, eps=1e-05)\n",
      "        )\n",
      "        (conv3): Conv2d(\n",
      "          128, 512, kernel_size=(1, 1), stride=(1, 1), bias=False\n",
      "          (norm): FrozenBatchNorm2d(num_features=512, eps=1e-05)\n",
      "        )\n",
      "      )\n",
      "      (2): BottleneckBlock(\n",
      "        (conv1): Conv2d(\n",
      "          512, 128, kernel_size=(1, 1), stride=(1, 1), bias=False\n",
      "          (norm): FrozenBatchNorm2d(num_features=128, eps=1e-05)\n",
      "        )\n",
      "        (conv2): Conv2d(\n",
      "          128, 128, kernel_size=(3, 3), stride=(1, 1), padding=(1, 1), bias=False\n",
      "          (norm): FrozenBatchNorm2d(num_features=128, eps=1e-05)\n",
      "        )\n",
      "        (conv3): Conv2d(\n",
      "          128, 512, kernel_size=(1, 1), stride=(1, 1), bias=False\n",
      "          (norm): FrozenBatchNorm2d(num_features=512, eps=1e-05)\n",
      "        )\n",
      "      )\n",
      "      (3): BottleneckBlock(\n",
      "        (conv1): Conv2d(\n",
      "          512, 128, kernel_size=(1, 1), stride=(1, 1), bias=False\n",
      "          (norm): FrozenBatchNorm2d(num_features=128, eps=1e-05)\n",
      "        )\n",
      "        (conv2): Conv2d(\n",
      "          128, 128, kernel_size=(3, 3), stride=(1, 1), padding=(1, 1), bias=False\n",
      "          (norm): FrozenBatchNorm2d(num_features=128, eps=1e-05)\n",
      "        )\n",
      "        (conv3): Conv2d(\n",
      "          128, 512, kernel_size=(1, 1), stride=(1, 1), bias=False\n",
      "          (norm): FrozenBatchNorm2d(num_features=512, eps=1e-05)\n",
      "        )\n",
      "      )\n",
      "    )\n",
      "    (res4): Sequential(\n",
      "      (0): BottleneckBlock(\n",
      "        (shortcut): Conv2d(\n",
      "          512, 1024, kernel_size=(1, 1), stride=(2, 2), bias=False\n",
      "          (norm): FrozenBatchNorm2d(num_features=1024, eps=1e-05)\n",
      "        )\n",
      "        (conv1): Conv2d(\n",
      "          512, 256, kernel_size=(1, 1), stride=(2, 2), bias=False\n",
      "          (norm): FrozenBatchNorm2d(num_features=256, eps=1e-05)\n",
      "        )\n",
      "        (conv2): Conv2d(\n",
      "          256, 256, kernel_size=(3, 3), stride=(1, 1), padding=(1, 1), bias=False\n",
      "          (norm): FrozenBatchNorm2d(num_features=256, eps=1e-05)\n",
      "        )\n",
      "        (conv3): Conv2d(\n",
      "          256, 1024, kernel_size=(1, 1), stride=(1, 1), bias=False\n",
      "          (norm): FrozenBatchNorm2d(num_features=1024, eps=1e-05)\n",
      "        )\n",
      "      )\n",
      "      (1): BottleneckBlock(\n",
      "        (conv1): Conv2d(\n",
      "          1024, 256, kernel_size=(1, 1), stride=(1, 1), bias=False\n",
      "          (norm): FrozenBatchNorm2d(num_features=256, eps=1e-05)\n",
      "        )\n",
      "        (conv2): Conv2d(\n",
      "          256, 256, kernel_size=(3, 3), stride=(1, 1), padding=(1, 1), bias=False\n",
      "          (norm): FrozenBatchNorm2d(num_features=256, eps=1e-05)\n",
      "        )\n",
      "        (conv3): Conv2d(\n",
      "          256, 1024, kernel_size=(1, 1), stride=(1, 1), bias=False\n",
      "          (norm): FrozenBatchNorm2d(num_features=1024, eps=1e-05)\n",
      "        )\n",
      "      )\n",
      "      (2): BottleneckBlock(\n",
      "        (conv1): Conv2d(\n",
      "          1024, 256, kernel_size=(1, 1), stride=(1, 1), bias=False\n",
      "          (norm): FrozenBatchNorm2d(num_features=256, eps=1e-05)\n",
      "        )\n",
      "        (conv2): Conv2d(\n",
      "          256, 256, kernel_size=(3, 3), stride=(1, 1), padding=(1, 1), bias=False\n",
      "          (norm): FrozenBatchNorm2d(num_features=256, eps=1e-05)\n",
      "        )\n",
      "        (conv3): Conv2d(\n",
      "          256, 1024, kernel_size=(1, 1), stride=(1, 1), bias=False\n",
      "          (norm): FrozenBatchNorm2d(num_features=1024, eps=1e-05)\n",
      "        )\n",
      "      )\n",
      "      (3): BottleneckBlock(\n",
      "        (conv1): Conv2d(\n",
      "          1024, 256, kernel_size=(1, 1), stride=(1, 1), bias=False\n",
      "          (norm): FrozenBatchNorm2d(num_features=256, eps=1e-05)\n",
      "        )\n",
      "        (conv2): Conv2d(\n",
      "          256, 256, kernel_size=(3, 3), stride=(1, 1), padding=(1, 1), bias=False\n",
      "          (norm): FrozenBatchNorm2d(num_features=256, eps=1e-05)\n",
      "        )\n",
      "        (conv3): Conv2d(\n",
      "          256, 1024, kernel_size=(1, 1), stride=(1, 1), bias=False\n",
      "          (norm): FrozenBatchNorm2d(num_features=1024, eps=1e-05)\n",
      "        )\n",
      "      )\n",
      "      (4): BottleneckBlock(\n",
      "        (conv1): Conv2d(\n",
      "          1024, 256, kernel_size=(1, 1), stride=(1, 1), bias=False\n",
      "          (norm): FrozenBatchNorm2d(num_features=256, eps=1e-05)\n",
      "        )\n",
      "        (conv2): Conv2d(\n",
      "          256, 256, kernel_size=(3, 3), stride=(1, 1), padding=(1, 1), bias=False\n",
      "          (norm): FrozenBatchNorm2d(num_features=256, eps=1e-05)\n",
      "        )\n",
      "        (conv3): Conv2d(\n",
      "          256, 1024, kernel_size=(1, 1), stride=(1, 1), bias=False\n",
      "          (norm): FrozenBatchNorm2d(num_features=1024, eps=1e-05)\n",
      "        )\n",
      "      )\n",
      "      (5): BottleneckBlock(\n",
      "        (conv1): Conv2d(\n",
      "          1024, 256, kernel_size=(1, 1), stride=(1, 1), bias=False\n",
      "          (norm): FrozenBatchNorm2d(num_features=256, eps=1e-05)\n",
      "        )\n",
      "        (conv2): Conv2d(\n",
      "          256, 256, kernel_size=(3, 3), stride=(1, 1), padding=(1, 1), bias=False\n",
      "          (norm): FrozenBatchNorm2d(num_features=256, eps=1e-05)\n",
      "        )\n",
      "        (conv3): Conv2d(\n",
      "          256, 1024, kernel_size=(1, 1), stride=(1, 1), bias=False\n",
      "          (norm): FrozenBatchNorm2d(num_features=1024, eps=1e-05)\n",
      "        )\n",
      "      )\n",
      "    )\n",
      "  )\n",
      "  (proposal_generator): RPN(\n",
      "    (anchor_generator): DefaultAnchorGenerator(\n",
      "      (cell_anchors): BufferList()\n",
      "    )\n",
      "    (rpn_head): StandardRPNHead(\n",
      "      (conv): Conv2d(1024, 1024, kernel_size=(3, 3), stride=(1, 1), padding=(1, 1))\n",
      "      (objectness_logits): Conv2d(1024, 15, kernel_size=(1, 1), stride=(1, 1))\n",
      "      (anchor_deltas): Conv2d(1024, 60, kernel_size=(1, 1), stride=(1, 1))\n",
      "    )\n",
      "  )\n",
      "  (roi_heads): Res5ROIHeads(\n",
      "    (pooler): ROIPooler(\n",
      "      (level_poolers): ModuleList(\n",
      "        (0): ROIAlign(output_size=(14, 14), spatial_scale=0.0625, sampling_ratio=0, aligned=True)\n",
      "      )\n",
      "    )\n",
      "    (res5): Sequential(\n",
      "      (0): BottleneckBlock(\n",
      "        (shortcut): Conv2d(\n",
      "          1024, 2048, kernel_size=(1, 1), stride=(2, 2), bias=False\n",
      "          (norm): FrozenBatchNorm2d(num_features=2048, eps=1e-05)\n",
      "        )\n",
      "        (conv1): Conv2d(\n",
      "          1024, 512, kernel_size=(1, 1), stride=(2, 2), bias=False\n",
      "          (norm): FrozenBatchNorm2d(num_features=512, eps=1e-05)\n",
      "        )\n",
      "        (conv2): Conv2d(\n",
      "          512, 512, kernel_size=(3, 3), stride=(1, 1), padding=(1, 1), bias=False\n",
      "          (norm): FrozenBatchNorm2d(num_features=512, eps=1e-05)\n",
      "        )\n",
      "        (conv3): Conv2d(\n",
      "          512, 2048, kernel_size=(1, 1), stride=(1, 1), bias=False\n",
      "          (norm): FrozenBatchNorm2d(num_features=2048, eps=1e-05)\n",
      "        )\n",
      "      )\n",
      "      (1): BottleneckBlock(\n",
      "        (conv1): Conv2d(\n",
      "          2048, 512, kernel_size=(1, 1), stride=(1, 1), bias=False\n",
      "          (norm): FrozenBatchNorm2d(num_features=512, eps=1e-05)\n",
      "        )\n",
      "        (conv2): Conv2d(\n",
      "          512, 512, kernel_size=(3, 3), stride=(1, 1), padding=(1, 1), bias=False\n",
      "          (norm): FrozenBatchNorm2d(num_features=512, eps=1e-05)\n",
      "        )\n",
      "        (conv3): Conv2d(\n",
      "          512, 2048, kernel_size=(1, 1), stride=(1, 1), bias=False\n",
      "          (norm): FrozenBatchNorm2d(num_features=2048, eps=1e-05)\n",
      "        )\n",
      "      )\n",
      "      (2): BottleneckBlock(\n",
      "        (conv1): Conv2d(\n",
      "          2048, 512, kernel_size=(1, 1), stride=(1, 1), bias=False\n",
      "          (norm): FrozenBatchNorm2d(num_features=512, eps=1e-05)\n",
      "        )\n",
      "        (conv2): Conv2d(\n",
      "          512, 512, kernel_size=(3, 3), stride=(1, 1), padding=(1, 1), bias=False\n",
      "          (norm): FrozenBatchNorm2d(num_features=512, eps=1e-05)\n",
      "        )\n",
      "        (conv3): Conv2d(\n",
      "          512, 2048, kernel_size=(1, 1), stride=(1, 1), bias=False\n",
      "          (norm): FrozenBatchNorm2d(num_features=2048, eps=1e-05)\n",
      "        )\n",
      "      )\n",
      "    )\n",
      "    (box_predictor): FastRCNNOutputLayers(\n",
      "      (cls_score): Linear(in_features=2048, out_features=2, bias=True)\n",
      "      (bbox_pred): Linear(in_features=2048, out_features=4, bias=True)\n",
      "    )\n",
      "  )\n",
      ")\n"
     ]
    },
    {
     "name": "stdout",
     "output_type": "stream",
     "text": [
      "\u001b[32m[03/10 20:09:45 d2.data.build]: \u001b[0mRemoved 0 images with no usable annotations. 128 images left.\n",
      "\u001b[32m[03/10 20:09:45 d2.data.build]: \u001b[0mDistribution of instances among all 1 categories:\n",
      "\u001b[36m|  category  | #instances   |\n",
      "|:----------:|:-------------|\n",
      "|   rhlogo   | 128          |\n",
      "|            |              |\u001b[0m\n",
      "\u001b[32m[03/10 20:09:45 d2.data.common]: \u001b[0mSerializing 128 elements to byte tensors and concatenating them all ...\n",
      "\u001b[32m[03/10 20:09:45 d2.data.common]: \u001b[0mSerialized dataset takes 0.03 MiB\n",
      "\u001b[32m[03/10 20:09:45 d2.data.detection_utils]: \u001b[0mTransformGens used in training: [ResizeShortestEdge(short_edge_length=(640, 672, 704, 736, 768, 800), max_size=1333, sample_style='choice'), RandomFlip()]\n",
      "\u001b[32m[03/10 20:09:45 d2.data.build]: \u001b[0mUsing training sampler TrainingSampler\n"
     ]
    },
    {
     "name": "stderr",
     "output_type": "stream",
     "text": [
      "'roi_heads.box_predictor.cls_score.weight' has shape (81, 2048) in the checkpoint but (2, 2048) in the model! Skipped.\n",
      "'roi_heads.box_predictor.cls_score.bias' has shape (81,) in the checkpoint but (2,) in the model! Skipped.\n",
      "'roi_heads.box_predictor.bbox_pred.weight' has shape (320, 2048) in the checkpoint but (4, 2048) in the model! Skipped.\n",
      "'roi_heads.box_predictor.bbox_pred.bias' has shape (320,) in the checkpoint but (4,) in the model! Skipped.\n"
     ]
    },
    {
     "name": "stdout",
     "output_type": "stream",
     "text": [
      "\u001b[32m[03/10 20:09:46 d2.engine.train_loop]: \u001b[0mStarting training from iteration 0\n",
      "\u001b[32m[03/10 20:09:52 d2.utils.events]: \u001b[0m eta: 0:04:20  iter: 19  total_loss: 1.427  loss_cls: 0.791  loss_box_reg: 0.601  loss_rpn_cls: 0.028  loss_rpn_loc: 0.012  time: 0.2693  data_time: 0.0078  lr: 0.000005  max_mem: 1763M\n",
      "\u001b[32m[03/10 20:09:57 d2.utils.events]: \u001b[0m eta: 0:04:15  iter: 39  total_loss: 1.253  loss_cls: 0.660  loss_box_reg: 0.554  loss_rpn_cls: 0.024  loss_rpn_loc: 0.012  time: 0.2686  data_time: 0.0033  lr: 0.000010  max_mem: 1763M\n",
      "\u001b[32m[03/10 20:10:03 d2.utils.events]: \u001b[0m eta: 0:04:10  iter: 59  total_loss: 1.199  loss_cls: 0.457  loss_box_reg: 0.668  loss_rpn_cls: 0.022  loss_rpn_loc: 0.014  time: 0.2690  data_time: 0.0035  lr: 0.000015  max_mem: 1763M\n",
      "\u001b[32m[03/10 20:10:08 d2.utils.events]: \u001b[0m eta: 0:04:05  iter: 79  total_loss: 0.936  loss_cls: 0.314  loss_box_reg: 0.565  loss_rpn_cls: 0.026  loss_rpn_loc: 0.012  time: 0.2690  data_time: 0.0031  lr: 0.000020  max_mem: 1763M\n",
      "\u001b[32m[03/10 20:10:13 d2.utils.events]: \u001b[0m eta: 0:04:00  iter: 99  total_loss: 0.887  loss_cls: 0.259  loss_box_reg: 0.575  loss_rpn_cls: 0.022  loss_rpn_loc: 0.014  time: 0.2709  data_time: 0.0031  lr: 0.000025  max_mem: 1763M\n",
      "\u001b[32m[03/10 20:10:19 d2.utils.events]: \u001b[0m eta: 0:03:57  iter: 119  total_loss: 0.897  loss_cls: 0.214  loss_box_reg: 0.617  loss_rpn_cls: 0.019  loss_rpn_loc: 0.017  time: 0.2710  data_time: 0.0031  lr: 0.000030  max_mem: 1763M\n",
      "\u001b[32m[03/10 20:10:24 d2.utils.events]: \u001b[0m eta: 0:03:51  iter: 139  total_loss: 0.877  loss_cls: 0.186  loss_box_reg: 0.668  loss_rpn_cls: 0.021  loss_rpn_loc: 0.012  time: 0.2709  data_time: 0.0034  lr: 0.000035  max_mem: 1763M\n",
      "\u001b[32m[03/10 20:10:30 d2.utils.events]: \u001b[0m eta: 0:03:46  iter: 159  total_loss: 0.877  loss_cls: 0.157  loss_box_reg: 0.695  loss_rpn_cls: 0.010  loss_rpn_loc: 0.014  time: 0.2710  data_time: 0.0030  lr: 0.000040  max_mem: 1763M\n",
      "\u001b[32m[03/10 20:10:35 d2.utils.events]: \u001b[0m eta: 0:03:41  iter: 179  total_loss: 0.807  loss_cls: 0.128  loss_box_reg: 0.636  loss_rpn_cls: 0.013  loss_rpn_loc: 0.014  time: 0.2711  data_time: 0.0028  lr: 0.000045  max_mem: 1763M\n",
      "\u001b[32m[03/10 20:10:41 d2.utils.events]: \u001b[0m eta: 0:03:36  iter: 199  total_loss: 0.752  loss_cls: 0.107  loss_box_reg: 0.620  loss_rpn_cls: 0.014  loss_rpn_loc: 0.011  time: 0.2716  data_time: 0.0038  lr: 0.000050  max_mem: 1763M\n",
      "\u001b[32m[03/10 20:10:46 d2.utils.events]: \u001b[0m eta: 0:03:30  iter: 219  total_loss: 0.766  loss_cls: 0.092  loss_box_reg: 0.645  loss_rpn_cls: 0.006  loss_rpn_loc: 0.011  time: 0.2716  data_time: 0.0030  lr: 0.000055  max_mem: 1763M\n",
      "\u001b[32m[03/10 20:10:52 d2.utils.events]: \u001b[0m eta: 0:03:26  iter: 239  total_loss: 0.692  loss_cls: 0.080  loss_box_reg: 0.586  loss_rpn_cls: 0.007  loss_rpn_loc: 0.010  time: 0.2718  data_time: 0.0033  lr: 0.000060  max_mem: 1763M\n",
      "\u001b[32m[03/10 20:10:57 d2.utils.events]: \u001b[0m eta: 0:03:21  iter: 259  total_loss: 0.694  loss_cls: 0.069  loss_box_reg: 0.609  loss_rpn_cls: 0.005  loss_rpn_loc: 0.009  time: 0.2722  data_time: 0.0035  lr: 0.000065  max_mem: 1763M\n",
      "\u001b[32m[03/10 20:11:03 d2.utils.events]: \u001b[0m eta: 0:03:15  iter: 279  total_loss: 0.639  loss_cls: 0.065  loss_box_reg: 0.544  loss_rpn_cls: 0.004  loss_rpn_loc: 0.008  time: 0.2722  data_time: 0.0035  lr: 0.000070  max_mem: 1763M\n",
      "\u001b[32m[03/10 20:11:08 d2.utils.events]: \u001b[0m eta: 0:03:10  iter: 299  total_loss: 0.569  loss_cls: 0.054  loss_box_reg: 0.496  loss_rpn_cls: 0.006  loss_rpn_loc: 0.011  time: 0.2722  data_time: 0.0032  lr: 0.000075  max_mem: 1763M\n",
      "\u001b[32m[03/10 20:11:14 d2.utils.events]: \u001b[0m eta: 0:03:04  iter: 319  total_loss: 0.523  loss_cls: 0.043  loss_box_reg: 0.462  loss_rpn_cls: 0.005  loss_rpn_loc: 0.009  time: 0.2721  data_time: 0.0029  lr: 0.000080  max_mem: 1763M\n",
      "\u001b[32m[03/10 20:11:19 d2.utils.events]: \u001b[0m eta: 0:02:58  iter: 339  total_loss: 0.506  loss_cls: 0.045  loss_box_reg: 0.450  loss_rpn_cls: 0.002  loss_rpn_loc: 0.006  time: 0.2718  data_time: 0.0031  lr: 0.000085  max_mem: 1763M\n",
      "\u001b[32m[03/10 20:11:24 d2.utils.events]: \u001b[0m eta: 0:02:53  iter: 359  total_loss: 0.413  loss_cls: 0.034  loss_box_reg: 0.363  loss_rpn_cls: 0.005  loss_rpn_loc: 0.009  time: 0.2718  data_time: 0.0032  lr: 0.000090  max_mem: 1763M\n",
      "\u001b[32m[03/10 20:11:30 d2.utils.events]: \u001b[0m eta: 0:02:48  iter: 379  total_loss: 0.324  loss_cls: 0.043  loss_box_reg: 0.278  loss_rpn_cls: 0.003  loss_rpn_loc: 0.007  time: 0.2717  data_time: 0.0029  lr: 0.000095  max_mem: 1763M\n",
      "\u001b[32m[03/10 20:11:35 d2.utils.events]: \u001b[0m eta: 0:02:42  iter: 399  total_loss: 0.377  loss_cls: 0.033  loss_box_reg: 0.323  loss_rpn_cls: 0.003  loss_rpn_loc: 0.009  time: 0.2714  data_time: 0.0030  lr: 0.000100  max_mem: 1763M\n",
      "\u001b[32m[03/10 20:11:41 d2.utils.events]: \u001b[0m eta: 0:02:36  iter: 419  total_loss: 0.256  loss_cls: 0.030  loss_box_reg: 0.211  loss_rpn_cls: 0.002  loss_rpn_loc: 0.009  time: 0.2713  data_time: 0.0029  lr: 0.000105  max_mem: 1763M\n",
      "\u001b[32m[03/10 20:11:46 d2.utils.events]: \u001b[0m eta: 0:02:31  iter: 439  total_loss: 0.274  loss_cls: 0.030  loss_box_reg: 0.226  loss_rpn_cls: 0.003  loss_rpn_loc: 0.009  time: 0.2713  data_time: 0.0030  lr: 0.000110  max_mem: 1763M\n",
      "\u001b[32m[03/10 20:11:51 d2.utils.events]: \u001b[0m eta: 0:02:26  iter: 459  total_loss: 0.296  loss_cls: 0.033  loss_box_reg: 0.235  loss_rpn_cls: 0.002  loss_rpn_loc: 0.007  time: 0.2714  data_time: 0.0031  lr: 0.000115  max_mem: 1763M\n",
      "\u001b[32m[03/10 20:11:57 d2.utils.events]: \u001b[0m eta: 0:02:20  iter: 479  total_loss: 0.255  loss_cls: 0.027  loss_box_reg: 0.222  loss_rpn_cls: 0.004  loss_rpn_loc: 0.011  time: 0.2714  data_time: 0.0031  lr: 0.000120  max_mem: 1763M\n",
      "\u001b[32m[03/10 20:12:02 d2.utils.events]: \u001b[0m eta: 0:02:15  iter: 499  total_loss: 0.227  loss_cls: 0.029  loss_box_reg: 0.187  loss_rpn_cls: 0.001  loss_rpn_loc: 0.007  time: 0.2713  data_time: 0.0030  lr: 0.000125  max_mem: 1763M\n",
      "\u001b[32m[03/10 20:12:08 d2.utils.events]: \u001b[0m eta: 0:02:09  iter: 519  total_loss: 0.253  loss_cls: 0.032  loss_box_reg: 0.201  loss_rpn_cls: 0.002  loss_rpn_loc: 0.008  time: 0.2712  data_time: 0.0029  lr: 0.000130  max_mem: 1763M\n",
      "\u001b[32m[03/10 20:12:13 d2.utils.events]: \u001b[0m eta: 0:02:04  iter: 539  total_loss: 0.250  loss_cls: 0.036  loss_box_reg: 0.204  loss_rpn_cls: 0.001  loss_rpn_loc: 0.009  time: 0.2713  data_time: 0.0030  lr: 0.000135  max_mem: 1763M\n",
      "\u001b[32m[03/10 20:12:19 d2.utils.events]: \u001b[0m eta: 0:01:59  iter: 559  total_loss: 0.248  loss_cls: 0.035  loss_box_reg: 0.196  loss_rpn_cls: 0.002  loss_rpn_loc: 0.007  time: 0.2713  data_time: 0.0030  lr: 0.000140  max_mem: 1763M\n",
      "\u001b[32m[03/10 20:12:24 d2.utils.events]: \u001b[0m eta: 0:01:53  iter: 579  total_loss: 0.245  loss_cls: 0.028  loss_box_reg: 0.207  loss_rpn_cls: 0.002  loss_rpn_loc: 0.006  time: 0.2714  data_time: 0.0030  lr: 0.000145  max_mem: 1763M\n",
      "\u001b[32m[03/10 20:12:30 d2.utils.events]: \u001b[0m eta: 0:01:48  iter: 599  total_loss: 0.257  loss_cls: 0.023  loss_box_reg: 0.217  loss_rpn_cls: 0.001  loss_rpn_loc: 0.009  time: 0.2713  data_time: 0.0033  lr: 0.000150  max_mem: 1763M\n",
      "\u001b[32m[03/10 20:12:35 d2.utils.events]: \u001b[0m eta: 0:01:42  iter: 619  total_loss: 0.226  loss_cls: 0.031  loss_box_reg: 0.179  loss_rpn_cls: 0.003  loss_rpn_loc: 0.009  time: 0.2713  data_time: 0.0030  lr: 0.000155  max_mem: 1763M\n",
      "\u001b[32m[03/10 20:12:40 d2.utils.events]: \u001b[0m eta: 0:01:37  iter: 639  total_loss: 0.261  loss_cls: 0.031  loss_box_reg: 0.214  loss_rpn_cls: 0.001  loss_rpn_loc: 0.006  time: 0.2713  data_time: 0.0030  lr: 0.000160  max_mem: 1763M\n",
      "\u001b[32m[03/10 20:12:46 d2.utils.events]: \u001b[0m eta: 0:01:32  iter: 659  total_loss: 0.232  loss_cls: 0.030  loss_box_reg: 0.205  loss_rpn_cls: 0.002  loss_rpn_loc: 0.007  time: 0.2713  data_time: 0.0029  lr: 0.000165  max_mem: 1763M\n",
      "\u001b[32m[03/10 20:12:51 d2.utils.events]: \u001b[0m eta: 0:01:26  iter: 679  total_loss: 0.203  loss_cls: 0.031  loss_box_reg: 0.162  loss_rpn_cls: 0.001  loss_rpn_loc: 0.007  time: 0.2712  data_time: 0.0029  lr: 0.000170  max_mem: 1763M\n",
      "\u001b[32m[03/10 20:12:57 d2.utils.events]: \u001b[0m eta: 0:01:21  iter: 699  total_loss: 0.213  loss_cls: 0.026  loss_box_reg: 0.180  loss_rpn_cls: 0.001  loss_rpn_loc: 0.007  time: 0.2712  data_time: 0.0028  lr: 0.000175  max_mem: 1763M\n",
      "\u001b[32m[03/10 20:13:02 d2.utils.events]: \u001b[0m eta: 0:01:15  iter: 719  total_loss: 0.236  loss_cls: 0.032  loss_box_reg: 0.187  loss_rpn_cls: 0.001  loss_rpn_loc: 0.008  time: 0.2712  data_time: 0.0031  lr: 0.000180  max_mem: 1763M\n"
     ]
    },
    {
     "name": "stdout",
     "output_type": "stream",
     "text": [
      "\u001b[32m[03/10 20:13:08 d2.utils.events]: \u001b[0m eta: 0:01:10  iter: 739  total_loss: 0.199  loss_cls: 0.031  loss_box_reg: 0.162  loss_rpn_cls: 0.001  loss_rpn_loc: 0.007  time: 0.2713  data_time: 0.0031  lr: 0.000185  max_mem: 1763M\n",
      "\u001b[32m[03/10 20:13:13 d2.utils.events]: \u001b[0m eta: 0:01:05  iter: 759  total_loss: 0.253  loss_cls: 0.026  loss_box_reg: 0.205  loss_rpn_cls: 0.001  loss_rpn_loc: 0.006  time: 0.2713  data_time: 0.0030  lr: 0.000190  max_mem: 1763M\n",
      "\u001b[32m[03/10 20:13:18 d2.utils.events]: \u001b[0m eta: 0:00:59  iter: 779  total_loss: 0.193  loss_cls: 0.026  loss_box_reg: 0.155  loss_rpn_cls: 0.001  loss_rpn_loc: 0.006  time: 0.2712  data_time: 0.0029  lr: 0.000195  max_mem: 1763M\n",
      "\u001b[32m[03/10 20:13:24 d2.utils.events]: \u001b[0m eta: 0:00:54  iter: 799  total_loss: 0.220  loss_cls: 0.030  loss_box_reg: 0.178  loss_rpn_cls: 0.002  loss_rpn_loc: 0.006  time: 0.2713  data_time: 0.0030  lr: 0.000200  max_mem: 1763M\n",
      "\u001b[32m[03/10 20:13:29 d2.utils.events]: \u001b[0m eta: 0:00:48  iter: 819  total_loss: 0.199  loss_cls: 0.026  loss_box_reg: 0.151  loss_rpn_cls: 0.002  loss_rpn_loc: 0.009  time: 0.2712  data_time: 0.0029  lr: 0.000205  max_mem: 1763M\n",
      "\u001b[32m[03/10 20:13:35 d2.utils.events]: \u001b[0m eta: 0:00:43  iter: 839  total_loss: 0.200  loss_cls: 0.031  loss_box_reg: 0.164  loss_rpn_cls: 0.001  loss_rpn_loc: 0.008  time: 0.2711  data_time: 0.0031  lr: 0.000210  max_mem: 1763M\n",
      "\u001b[32m[03/10 20:13:40 d2.utils.events]: \u001b[0m eta: 0:00:38  iter: 859  total_loss: 0.195  loss_cls: 0.026  loss_box_reg: 0.158  loss_rpn_cls: 0.001  loss_rpn_loc: 0.006  time: 0.2712  data_time: 0.0030  lr: 0.000215  max_mem: 1763M\n",
      "\u001b[32m[03/10 20:13:45 d2.utils.events]: \u001b[0m eta: 0:00:32  iter: 879  total_loss: 0.173  loss_cls: 0.025  loss_box_reg: 0.143  loss_rpn_cls: 0.001  loss_rpn_loc: 0.008  time: 0.2711  data_time: 0.0030  lr: 0.000220  max_mem: 1763M\n",
      "\u001b[32m[03/10 20:13:51 d2.utils.events]: \u001b[0m eta: 0:00:27  iter: 899  total_loss: 0.183  loss_cls: 0.027  loss_box_reg: 0.152  loss_rpn_cls: 0.001  loss_rpn_loc: 0.007  time: 0.2711  data_time: 0.0031  lr: 0.000225  max_mem: 1763M\n",
      "\u001b[32m[03/10 20:13:56 d2.utils.events]: \u001b[0m eta: 0:00:21  iter: 919  total_loss: 0.171  loss_cls: 0.027  loss_box_reg: 0.129  loss_rpn_cls: 0.001  loss_rpn_loc: 0.006  time: 0.2711  data_time: 0.0030  lr: 0.000230  max_mem: 1763M\n",
      "\u001b[32m[03/10 20:14:02 d2.utils.events]: \u001b[0m eta: 0:00:16  iter: 939  total_loss: 0.209  loss_cls: 0.029  loss_box_reg: 0.151  loss_rpn_cls: 0.001  loss_rpn_loc: 0.008  time: 0.2711  data_time: 0.0030  lr: 0.000235  max_mem: 1763M\n",
      "\u001b[32m[03/10 20:14:07 d2.utils.events]: \u001b[0m eta: 0:00:11  iter: 959  total_loss: 0.182  loss_cls: 0.026  loss_box_reg: 0.148  loss_rpn_cls: 0.001  loss_rpn_loc: 0.006  time: 0.2712  data_time: 0.0031  lr: 0.000240  max_mem: 1763M\n",
      "\u001b[32m[03/10 20:14:13 d2.utils.events]: \u001b[0m eta: 0:00:05  iter: 979  total_loss: 0.190  loss_cls: 0.023  loss_box_reg: 0.155  loss_rpn_cls: 0.000  loss_rpn_loc: 0.005  time: 0.2713  data_time: 0.0030  lr: 0.000245  max_mem: 1763M\n",
      "\u001b[32m[03/10 20:14:19 d2.utils.events]: \u001b[0m eta: 0:00:00  iter: 999  total_loss: 0.157  loss_cls: 0.024  loss_box_reg: 0.130  loss_rpn_cls: 0.001  loss_rpn_loc: 0.005  time: 0.2713  data_time: 0.0030  lr: 0.000250  max_mem: 1763M\n",
      "\u001b[32m[03/10 20:14:20 d2.engine.hooks]: \u001b[0mOverall training speed: 997 iterations in 0:04:30 (0.2716 s / it)\n",
      "\u001b[32m[03/10 20:14:20 d2.engine.hooks]: \u001b[0mTotal training time: 0:04:33 (0:00:02 on hooks)\n"
     ]
    }
   ],
   "source": [
    "trainer, cfg = prepare_for_training(1000, \n",
    "                                    'rhlogo_output', \n",
    "                                    'rhlogo_train', \n",
    "                                    1, \n",
    "                                    start_training=True)"
   ]
  },
  {
   "cell_type": "code",
   "execution_count": 14,
   "metadata": {
    "code_folding": []
   },
   "outputs": [
    {
     "name": "stdout",
     "output_type": "stream",
     "text": [
      "Reading weights from output dir: rhlogo_output\n"
     ]
    }
   ],
   "source": [
    "cfg.MODEL.DEVICE = \"cpu\"\n",
    "predictor = prepare_for_inference(cfg, 'rhlogo_test', threshold=0.70)"
   ]
  },
  {
   "cell_type": "code",
   "execution_count": 16,
   "metadata": {
    "scrolled": false
   },
   "outputs": [
    {
     "data": {
      "text/plain": [
       "{'instances': Instances(num_instances=2, image_height=194, image_width=259, fields=[pred_boxes: Boxes(tensor([[ 45.2553,  81.6387,  60.4828,  96.5351],\n",
       "         [220.4351, 115.5946, 258.1064, 194.0000]])), scores: tensor([0.8866, 0.7705]), pred_classes: tensor([0, 0])])}"
      ]
     },
     "execution_count": 16,
     "metadata": {},
     "output_type": "execute_result"
    },
    {
     "data": {
      "image/png": "[encoded data removed]",
      "text/plain": [
       "<Figure size 720x720 with 1 Axes>"
      ]
     },
     "metadata": {
      "needs_background": "light"
     },
     "output_type": "display_data"
    }
   ],
   "source": [
    "fig = plt.figure(figsize=(10,10))\n",
    "infer_img(predictor, 'RHBKG2.jpg', rhlogo_train_metadata)"
   ]
  },
  {
   "cell_type": "code",
   "execution_count": 19,
   "metadata": {},
   "outputs": [
    {
     "name": "stdout",
     "output_type": "stream",
     "text": [
      "\u001b[5m\u001b[31mWARNING\u001b[0m \u001b[32m[03/10 20:19:48 d2.evaluation.coco_evaluation]: \u001b[0mjson_file was not found in MetaDataCatalog for 'rhlogo_train'. Trying to convert it to COCO format ...\n",
      "\u001b[32m[03/10 20:19:48 d2.data.datasets.coco]: \u001b[0mConverting dataset annotations in 'rhlogo_train' to COCO format ...)\n",
      "\u001b[32m[03/10 20:19:48 d2.data.datasets.coco]: \u001b[0mConverting dataset dicts into COCO format\n",
      "\u001b[32m[03/10 20:19:48 d2.data.datasets.coco]: \u001b[0mConversion finished, num images: 128, num annotations: 128\n",
      "\u001b[32m[03/10 20:19:48 d2.data.datasets.coco]: \u001b[0mCaching annotations in COCO format: rhlogo_output/rhlogo_train_coco_format.json\n"
     ]
    }
   ],
   "source": [
    "train_evaluator = COCOEvaluator('rhlogo_train', cfg, False, output_dir=\"rhlogo_output\")"
   ]
  },
  {
   "cell_type": "code",
   "execution_count": 20,
   "metadata": {},
   "outputs": [
    {
     "name": "stdout",
     "output_type": "stream",
     "text": [
      "\u001b[32m[03/10 20:19:57 d2.data.common]: \u001b[0mSerializing 128 elements to byte tensors and concatenating them all ...\n",
      "\u001b[32m[03/10 20:19:57 d2.data.common]: \u001b[0mSerialized dataset takes 0.03 MiB\n"
     ]
    }
   ],
   "source": [
    "train_loader = build_detection_test_loader(cfg, \"rhlogo_train\")"
   ]
  },
  {
   "cell_type": "code",
   "execution_count": 21,
   "metadata": {},
   "outputs": [
    {
     "name": "stdout",
     "output_type": "stream",
     "text": [
      "\u001b[32m[03/10 20:20:08 d2.evaluation.evaluator]: \u001b[0mStart inference on 128 images\n",
      "\u001b[32m[03/10 20:20:10 d2.evaluation.evaluator]: \u001b[0mInference done 11/128. 0.1630 s / img. ETA=0:00:19\n",
      "\u001b[32m[03/10 20:20:15 d2.evaluation.evaluator]: \u001b[0mInference done 44/128. 0.1525 s / img. ETA=0:00:12\n",
      "\u001b[32m[03/10 20:20:20 d2.evaluation.evaluator]: \u001b[0mInference done 79/128. 0.1476 s / img. ETA=0:00:07\n",
      "\u001b[32m[03/10 20:20:25 d2.evaluation.evaluator]: \u001b[0mInference done 113/128. 0.1471 s / img. ETA=0:00:02\n",
      "\u001b[32m[03/10 20:20:28 d2.evaluation.evaluator]: \u001b[0mTotal inference time: 0:00:18.427317 (0.149816 s / img per device, on 1 devices)\n",
      "\u001b[32m[03/10 20:20:28 d2.evaluation.evaluator]: \u001b[0mTotal inference pure compute time: 0:00:18 (0.147718 s / img per device, on 1 devices)\n",
      "\u001b[32m[03/10 20:20:28 d2.evaluation.coco_evaluation]: \u001b[0mPreparing results for COCO format ...\n",
      "\u001b[32m[03/10 20:20:28 d2.evaluation.coco_evaluation]: \u001b[0mSaving results to rhlogo_output/coco_instances_results.json\n",
      "\u001b[32m[03/10 20:20:28 d2.evaluation.coco_evaluation]: \u001b[0mEvaluating predictions ...\n",
      "Loading and preparing results...\n",
      "DONE (t=0.00s)\n",
      "creating index...\n",
      "index created!\n",
      "Running per image evaluation...\n",
      "Evaluate annotation type *bbox*\n",
      "DONE (t=0.04s).\n",
      "Accumulating evaluation results...\n",
      "DONE (t=0.01s).\n",
      " Average Precision  (AP) @[ IoU=0.50:0.95 | area=   all | maxDets=100 ] = 0.852\n",
      " Average Precision  (AP) @[ IoU=0.50      | area=   all | maxDets=100 ] = 1.000\n",
      " Average Precision  (AP) @[ IoU=0.75      | area=   all | maxDets=100 ] = 0.950\n",
      " Average Precision  (AP) @[ IoU=0.50:0.95 | area= small | maxDets=100 ] = -1.000\n",
      " Average Precision  (AP) @[ IoU=0.50:0.95 | area=medium | maxDets=100 ] = -1.000\n",
      " Average Precision  (AP) @[ IoU=0.50:0.95 | area= large | maxDets=100 ] = 0.852\n",
      " Average Recall     (AR) @[ IoU=0.50:0.95 | area=   all | maxDets=  1 ] = 0.899\n",
      " Average Recall     (AR) @[ IoU=0.50:0.95 | area=   all | maxDets= 10 ] = 0.899\n",
      " Average Recall     (AR) @[ IoU=0.50:0.95 | area=   all | maxDets=100 ] = 0.899\n",
      " Average Recall     (AR) @[ IoU=0.50:0.95 | area= small | maxDets=100 ] = -1.000\n",
      " Average Recall     (AR) @[ IoU=0.50:0.95 | area=medium | maxDets=100 ] = -1.000\n",
      " Average Recall     (AR) @[ IoU=0.50:0.95 | area= large | maxDets=100 ] = 0.899\n",
      "\u001b[32m[03/10 20:20:28 d2.evaluation.coco_evaluation]: \u001b[0mEvaluation results for bbox: \n",
      "|   AP   |  AP50   |  AP75  |  APs  |  APm  |  APl   |\n",
      "|:------:|:-------:|:------:|:-----:|:-----:|:------:|\n",
      "| 85.176 | 100.000 | 95.011 |  nan  |  nan  | 85.176 |\n",
      "\u001b[32m[03/10 20:20:28 d2.evaluation.coco_evaluation]: \u001b[0mNote that some metrics cannot be computed.\n"
     ]
    },
    {
     "data": {
      "text/plain": [
       "OrderedDict([('bbox',\n",
       "              {'AP': 85.17608791561304,\n",
       "               'AP50': 100.0,\n",
       "               'AP75': 95.01082920792079,\n",
       "               'APs': nan,\n",
       "               'APm': nan,\n",
       "               'APl': 85.17608791561304})])"
      ]
     },
     "execution_count": 21,
     "metadata": {},
     "output_type": "execute_result"
    }
   ],
   "source": [
    "train_metrics = inference_on_dataset(trainer.model, train_loader, train_evaluator)"
   ]
  },
  {
   "cell_type": "code",
   "execution_count": 22,
   "metadata": {},
   "outputs": [
    {
     "name": "stdout",
     "output_type": "stream",
     "text": [
      "\u001b[5m\u001b[31mWARNING\u001b[0m \u001b[32m[03/10 20:21:28 d2.evaluation.coco_evaluation]: \u001b[0mjson_file was not found in MetaDataCatalog for 'rhlogo_test'. Trying to convert it to COCO format ...\n",
      "\u001b[32m[03/10 20:21:28 d2.data.datasets.coco]: \u001b[0mConverting dataset annotations in 'rhlogo_test' to COCO format ...)\n",
      "\u001b[32m[03/10 20:21:28 d2.data.datasets.coco]: \u001b[0mConverting dataset dicts into COCO format\n",
      "\u001b[32m[03/10 20:21:28 d2.data.datasets.coco]: \u001b[0mConversion finished, num images: 128, num annotations: 128\n",
      "\u001b[32m[03/10 20:21:28 d2.data.datasets.coco]: \u001b[0mCaching annotations in COCO format: rhlogo_output/rhlogo_test_coco_format.json\n"
     ]
    }
   ],
   "source": [
    "test_evaluator = COCOEvaluator('rhlogo_test', cfg, False, output_dir=\"rhlogo_output\")"
   ]
  },
  {
   "cell_type": "code",
   "execution_count": 23,
   "metadata": {},
   "outputs": [
    {
     "name": "stdout",
     "output_type": "stream",
     "text": [
      "\u001b[32m[03/10 20:21:40 d2.data.common]: \u001b[0mSerializing 128 elements to byte tensors and concatenating them all ...\n",
      "\u001b[32m[03/10 20:21:40 d2.data.common]: \u001b[0mSerialized dataset takes 0.03 MiB\n"
     ]
    }
   ],
   "source": [
    "test_loader = build_detection_test_loader(cfg, \"rhlogo_test\")"
   ]
  },
  {
   "cell_type": "code",
   "execution_count": 24,
   "metadata": {},
   "outputs": [
    {
     "name": "stdout",
     "output_type": "stream",
     "text": [
      "\u001b[32m[03/10 20:22:01 d2.evaluation.evaluator]: \u001b[0mStart inference on 128 images\n",
      "\u001b[32m[03/10 20:22:03 d2.evaluation.evaluator]: \u001b[0mInference done 11/128. 0.1556 s / img. ETA=0:00:18\n",
      "\u001b[32m[03/10 20:22:08 d2.evaluation.evaluator]: \u001b[0mInference done 46/128. 0.1439 s / img. ETA=0:00:11\n",
      "\u001b[32m[03/10 20:22:13 d2.evaluation.evaluator]: \u001b[0mInference done 80/128. 0.1462 s / img. ETA=0:00:07\n",
      "\u001b[32m[03/10 20:22:18 d2.evaluation.evaluator]: \u001b[0mInference done 117/128. 0.1433 s / img. ETA=0:00:01\n",
      "\u001b[32m[03/10 20:22:20 d2.evaluation.evaluator]: \u001b[0mTotal inference time: 0:00:17.947592 (0.145915 s / img per device, on 1 devices)\n",
      "\u001b[32m[03/10 20:22:20 d2.evaluation.evaluator]: \u001b[0mTotal inference pure compute time: 0:00:17 (0.143722 s / img per device, on 1 devices)\n",
      "\u001b[32m[03/10 20:22:20 d2.evaluation.coco_evaluation]: \u001b[0mPreparing results for COCO format ...\n",
      "\u001b[32m[03/10 20:22:20 d2.evaluation.coco_evaluation]: \u001b[0mSaving results to rhlogo_output/coco_instances_results.json\n",
      "\u001b[32m[03/10 20:22:20 d2.evaluation.coco_evaluation]: \u001b[0mEvaluating predictions ...\n",
      "Loading and preparing results...\n",
      "DONE (t=0.00s)\n",
      "creating index...\n",
      "index created!\n",
      "Running per image evaluation...\n",
      "Evaluate annotation type *bbox*\n",
      "DONE (t=0.05s).\n",
      "Accumulating evaluation results...\n",
      "DONE (t=0.02s).\n",
      " Average Precision  (AP) @[ IoU=0.50:0.95 | area=   all | maxDets=100 ] = 0.790\n",
      " Average Precision  (AP) @[ IoU=0.50      | area=   all | maxDets=100 ] = 1.000\n",
      " Average Precision  (AP) @[ IoU=0.75      | area=   all | maxDets=100 ] = 0.927\n",
      " Average Precision  (AP) @[ IoU=0.50:0.95 | area= small | maxDets=100 ] = -1.000\n",
      " Average Precision  (AP) @[ IoU=0.50:0.95 | area=medium | maxDets=100 ] = -1.000\n",
      " Average Precision  (AP) @[ IoU=0.50:0.95 | area= large | maxDets=100 ] = 0.790\n",
      " Average Recall     (AR) @[ IoU=0.50:0.95 | area=   all | maxDets=  1 ] = 0.859\n",
      " Average Recall     (AR) @[ IoU=0.50:0.95 | area=   all | maxDets= 10 ] = 0.859\n",
      " Average Recall     (AR) @[ IoU=0.50:0.95 | area=   all | maxDets=100 ] = 0.859\n",
      " Average Recall     (AR) @[ IoU=0.50:0.95 | area= small | maxDets=100 ] = -1.000\n",
      " Average Recall     (AR) @[ IoU=0.50:0.95 | area=medium | maxDets=100 ] = -1.000\n",
      " Average Recall     (AR) @[ IoU=0.50:0.95 | area= large | maxDets=100 ] = 0.859\n",
      "\u001b[32m[03/10 20:22:20 d2.evaluation.coco_evaluation]: \u001b[0mEvaluation results for bbox: \n",
      "|   AP   |  AP50   |  AP75  |  APs  |  APm  |  APl   |\n",
      "|:------:|:-------:|:------:|:-----:|:-----:|:------:|\n",
      "| 79.028 | 100.000 | 92.713 |  nan  |  nan  | 79.028 |\n",
      "\u001b[32m[03/10 20:22:20 d2.evaluation.coco_evaluation]: \u001b[0mNote that some metrics cannot be computed.\n"
     ]
    }
   ],
   "source": [
    "test_metrics = inference_on_dataset(trainer.model, test_loader, test_evaluator)"
   ]
  },
  {
   "cell_type": "markdown",
   "metadata": {},
   "source": [
    "### Things to do:\n",
    "\n",
    "1. add mAP (and others) as a metric (IN PROGRESS)\n",
    "\n",
    "5. test onnx export \n",
    "\n",
    "2. look for models with lower latency\n",
    "\n",
    "3. more diverse backgrounds (NICE BUT NOT URGENT)\n",
    "\n",
    "6. clean and document code (NICE BUT NOT URGENT)\n",
    "\n",
    "7. (maybe) multiple logos on same background (NICE BUT NOT URGENT)\n",
    "\n",
    "4. add all 3 logos (DONE)"
   ]
  },
  {
   "cell_type": "markdown",
   "metadata": {},
   "source": [
    "### Train on 4 logos"
   ]
  },
  {
   "cell_type": "markdown",
   "metadata": {},
   "source": [
    "#### Generate new dataset - remove translations from transformations list"
   ]
  },
  {
   "cell_type": "code",
   "execution_count": null,
   "metadata": {},
   "outputs": [],
   "source": [
    "N_images = 128\n",
    "low_frac = 0.20\n",
    "high_frac = 0.40\n",
    "\n",
    "logo_file_list = ['RHLOGO.jpg',\n",
    "                  'ANACONDALOGO.jpg',\n",
    "                  'CLOUDERALOGO.jpg',\n",
    "                  'SASLOGO.png']\n",
    "name_list = [name.split('.')[0].replace('LOGO', '').lower() for name in logo_file_list]"
   ]
  },
  {
   "cell_type": "code",
   "execution_count": null,
   "metadata": {},
   "outputs": [],
   "source": [
    "for idx in range(len(logo_file_list)):\n",
    "    logo_file = logo_file_list[idx]\n",
    "    name = name_list[idx]\n",
    "    \n",
    "    print(f\"Generating logos for {name}\")\n",
    "    \n",
    "    for dataset in ['train', 'test']:\n",
    "        img_list, bbox_list, csv_fields = generate_augmented_dataset(N_images, \n",
    "                                                                     low_frac=low_frac,\n",
    "                                                                     high_frac=high_frac,\n",
    "                                                                     logo_file=logo_file,\n",
    "                                                                     save_loc=f'logo_detector/{name}/{dataset}',\n",
    "                                                                     logo_name=name)"
   ]
  },
  {
   "cell_type": "markdown",
   "metadata": {},
   "source": [
    "#### Combine all four logos into same folder and labels csv file"
   ]
  },
  {
   "cell_type": "code",
   "execution_count": null,
   "metadata": {},
   "outputs": [],
   "source": [
    "def check_combined_dataset(loc):\n",
    "    \n",
    "    label_file = os.path.join(loc, 'labels.csv')\n",
    "    \n",
    "    if not os.path.exists(label_file):\n",
    "        raise ValueError(\"labels.csv doesn't exist. Please ensure loc argument is correct.\")\n",
    "\n",
    "    df_labels = pd.read_csv(label_file)\n",
    "    csv_filenames = set(df_labels['filename'])\n",
    "    \n",
    "    filesystem_files = set(glob.glob(f\"{loc}/*.png\"))\n",
    "    \n",
    "    #ensures exactly same image files in filesystem tree and in csv files\n",
    "    assert(len(csv_filenames.symmetric_difference(filesystem_files))==0)\n",
    "    \n",
    "    #ensure labels are correct between class column and image filenames\n",
    "    N_correct = (df_labels['filename'].apply(lambda x: x.split('/')[-1].split('_')[0])==df_labels['class']).sum()\n",
    "    \n",
    "    assert(N_correct==df_labels.shape[0])\n",
    "    \n",
    "def combine_datasets(loc):\n",
    "    '''Hacky - replace os by pathlib\n",
    "    Add checks\n",
    "    '''\n",
    "    \n",
    "    target_path = os.path.join(loc, 'combined')\n",
    "    if os.path.exists(target_path):\n",
    "        shutil.rmtree(target_path, ignore_errors=True)\n",
    "    \n",
    "    logo_list = os.listdir(loc) #rh,anaconda...\n",
    "    dataset_type_list = os.listdir(os.path.join(loc, logo_list[0]))#train,test\n",
    "    \n",
    "    for dataset in dataset_type_list:#create combined/train, combined/test\n",
    "        pathlib.Path(os.path.join(loc, 'combined', dataset)).mkdir(parents=True, exist_ok=True)\n",
    "    \n",
    "    #copy images over\n",
    "    df_dict = {}\n",
    "    for logo in logo_list: #rh\n",
    "        for dataset in dataset_type_list: #train\n",
    "            #csv files\n",
    "            if dataset not in df_dict:\n",
    "                df_dict[dataset] = []\n",
    "            df_dict[dataset].append(pd.read_csv(os.path.join(loc, logo, dataset, f'{logo}.csv')))\n",
    "            \n",
    "            for img_file in glob.glob(os.path.join(loc, logo, dataset, '*.png')):\n",
    "                shutil.copy2(img_file, os.path.join(loc, 'combined', dataset))\n",
    "    \n",
    "    def create_path(path, idx_to_exclude):\n",
    "        return '/'.join([val if idx!=idx_to_exclude else \"combined\" for idx, val in enumerate(path.split('/'))]) \n",
    "    \n",
    "    #process csvs\n",
    "    for dataset in df_dict:\n",
    "        df = pd.concat(df_dict[dataset], axis=0)\n",
    "        \n",
    "        df['filename'] = df['filename'].apply(lambda x: create_path(x, 1))\n",
    "        \n",
    "        df.to_csv(os.path.join(loc, 'combined', dataset, 'labels.csv'), index=False)\n",
    "        \n",
    "        check_combined_dataset(os.path.join(loc, 'combined', dataset))"
   ]
  },
  {
   "cell_type": "code",
   "execution_count": null,
   "metadata": {},
   "outputs": [],
   "source": [
    "combine_datasets('logo_detector')"
   ]
  },
  {
   "cell_type": "markdown",
   "metadata": {},
   "source": [
    "#### Convert CSV files to JSONs"
   ]
  },
  {
   "cell_type": "code",
   "execution_count": null,
   "metadata": {},
   "outputs": [],
   "source": [
    "#convert csv to json - move to notebook\n",
    "!python convert_csv_to_detectron.py logo_detector/combined/train/labels.csv logo_detector/combined/train/data.json\n",
    "!python convert_csv_to_detectron.py logo_detector/combined/test/labels.csv logo_detector/combined/test/data.json"
   ]
  },
  {
   "cell_type": "markdown",
   "metadata": {},
   "source": [
    "#### Train Model"
   ]
  },
  {
   "cell_type": "code",
   "execution_count": 27,
   "metadata": {},
   "outputs": [],
   "source": [
    "#clear any catalogs\n",
    "DatasetCatalog.clear()\n",
    "MetadataCatalog._NAME_TO_META = {}"
   ]
  },
  {
   "cell_type": "code",
   "execution_count": 28,
   "metadata": {},
   "outputs": [
    {
     "name": "stdout",
     "output_type": "stream",
     "text": [
      "{'image_id': 0, 'file_name': 'logo_detector/combined/train/anaconda_aacmpy.png', 'height': 512, 'width': 512, 'annotations': [{'bbox': [161, 246, 265, 378], 'bbox_mode': <BoxMode.XYXY_ABS: 0>, 'category_id': 2}]}\n"
     ]
    }
   ],
   "source": [
    "#json with labels\n",
    "logo_train = get_dicts('logo_detector/combined/train')\n",
    "print(logo_train[0])"
   ]
  },
  {
   "cell_type": "code",
   "execution_count": 29,
   "metadata": {},
   "outputs": [
    {
     "name": "stdout",
     "output_type": "stream",
     "text": [
      "['sas', 'rh', 'anaconda', 'cloudera']\n"
     ]
    }
   ],
   "source": [
    "#get labels\n",
    "labels = list(pd.read_csv('logo_detector/combined/train/labels.csv')['class'].unique())\n",
    "print(labels)"
   ]
  },
  {
   "cell_type": "code",
   "execution_count": 30,
   "metadata": {},
   "outputs": [],
   "source": [
    "#register datasets\n",
    "register('logo_detector/combined', labels, ['train', 'test'])"
   ]
  },
  {
   "cell_type": "code",
   "execution_count": 31,
   "metadata": {},
   "outputs": [],
   "source": [
    "logo_train_metadata = get_metadata('logo_detector/combined_train')"
   ]
  },
  {
   "cell_type": "code",
   "execution_count": 32,
   "metadata": {},
   "outputs": [
    {
     "name": "stdout",
     "output_type": "stream",
     "text": [
      "{'image_id': 34, 'file_name': 'logo_detector/combined/train/anaconda_ghuwah.png', 'height': 512, 'width': 512, 'annotations': [{'bbox': [47, 167, 225, 294], 'bbox_mode': <BoxMode.XYXY_ABS: 0>, 'category_id': 2}]}\n"
     ]
    },
    {
     "data": {
      "image/png": "[encoded data removed]",
      "text/plain": [
       "<Figure size 432x288 with 1 Axes>"
      ]
     },
     "metadata": {
      "needs_background": "light"
     },
     "output_type": "display_data"
    }
   ],
   "source": [
    "#plot data\n",
    "sample_plot(logo_train, logo_train_metadata, '.')"
   ]
  },
  {
   "cell_type": "code",
   "execution_count": 33,
   "metadata": {
    "scrolled": false
   },
   "outputs": [
    {
     "name": "stdout",
     "output_type": "stream",
     "text": [
      "\u001b[32m[03/10 20:50:04 d2.engine.defaults]: \u001b[0mModel:\n",
      "GeneralizedRCNN(\n",
      "  (backbone): ResNet(\n",
      "    (stem): BasicStem(\n",
      "      (conv1): Conv2d(\n",
      "        3, 64, kernel_size=(7, 7), stride=(2, 2), padding=(3, 3), bias=False\n",
      "        (norm): FrozenBatchNorm2d(num_features=64, eps=1e-05)\n",
      "      )\n",
      "    )\n",
      "    (res2): Sequential(\n",
      "      (0): BottleneckBlock(\n",
      "        (shortcut): Conv2d(\n",
      "          64, 256, kernel_size=(1, 1), stride=(1, 1), bias=False\n",
      "          (norm): FrozenBatchNorm2d(num_features=256, eps=1e-05)\n",
      "        )\n",
      "        (conv1): Conv2d(\n",
      "          64, 64, kernel_size=(1, 1), stride=(1, 1), bias=False\n",
      "          (norm): FrozenBatchNorm2d(num_features=64, eps=1e-05)\n",
      "        )\n",
      "        (conv2): Conv2d(\n",
      "          64, 64, kernel_size=(3, 3), stride=(1, 1), padding=(1, 1), bias=False\n",
      "          (norm): FrozenBatchNorm2d(num_features=64, eps=1e-05)\n",
      "        )\n",
      "        (conv3): Conv2d(\n",
      "          64, 256, kernel_size=(1, 1), stride=(1, 1), bias=False\n",
      "          (norm): FrozenBatchNorm2d(num_features=256, eps=1e-05)\n",
      "        )\n",
      "      )\n",
      "      (1): BottleneckBlock(\n",
      "        (conv1): Conv2d(\n",
      "          256, 64, kernel_size=(1, 1), stride=(1, 1), bias=False\n",
      "          (norm): FrozenBatchNorm2d(num_features=64, eps=1e-05)\n",
      "        )\n",
      "        (conv2): Conv2d(\n",
      "          64, 64, kernel_size=(3, 3), stride=(1, 1), padding=(1, 1), bias=False\n",
      "          (norm): FrozenBatchNorm2d(num_features=64, eps=1e-05)\n",
      "        )\n",
      "        (conv3): Conv2d(\n",
      "          64, 256, kernel_size=(1, 1), stride=(1, 1), bias=False\n",
      "          (norm): FrozenBatchNorm2d(num_features=256, eps=1e-05)\n",
      "        )\n",
      "      )\n",
      "      (2): BottleneckBlock(\n",
      "        (conv1): Conv2d(\n",
      "          256, 64, kernel_size=(1, 1), stride=(1, 1), bias=False\n",
      "          (norm): FrozenBatchNorm2d(num_features=64, eps=1e-05)\n",
      "        )\n",
      "        (conv2): Conv2d(\n",
      "          64, 64, kernel_size=(3, 3), stride=(1, 1), padding=(1, 1), bias=False\n",
      "          (norm): FrozenBatchNorm2d(num_features=64, eps=1e-05)\n",
      "        )\n",
      "        (conv3): Conv2d(\n",
      "          64, 256, kernel_size=(1, 1), stride=(1, 1), bias=False\n",
      "          (norm): FrozenBatchNorm2d(num_features=256, eps=1e-05)\n",
      "        )\n",
      "      )\n",
      "    )\n",
      "    (res3): Sequential(\n",
      "      (0): BottleneckBlock(\n",
      "        (shortcut): Conv2d(\n",
      "          256, 512, kernel_size=(1, 1), stride=(2, 2), bias=False\n",
      "          (norm): FrozenBatchNorm2d(num_features=512, eps=1e-05)\n",
      "        )\n",
      "        (conv1): Conv2d(\n",
      "          256, 128, kernel_size=(1, 1), stride=(2, 2), bias=False\n",
      "          (norm): FrozenBatchNorm2d(num_features=128, eps=1e-05)\n",
      "        )\n",
      "        (conv2): Conv2d(\n",
      "          128, 128, kernel_size=(3, 3), stride=(1, 1), padding=(1, 1), bias=False\n",
      "          (norm): FrozenBatchNorm2d(num_features=128, eps=1e-05)\n",
      "        )\n",
      "        (conv3): Conv2d(\n",
      "          128, 512, kernel_size=(1, 1), stride=(1, 1), bias=False\n",
      "          (norm): FrozenBatchNorm2d(num_features=512, eps=1e-05)\n",
      "        )\n",
      "      )\n",
      "      (1): BottleneckBlock(\n",
      "        (conv1): Conv2d(\n",
      "          512, 128, kernel_size=(1, 1), stride=(1, 1), bias=False\n",
      "          (norm): FrozenBatchNorm2d(num_features=128, eps=1e-05)\n",
      "        )\n",
      "        (conv2): Conv2d(\n",
      "          128, 128, kernel_size=(3, 3), stride=(1, 1), padding=(1, 1), bias=False\n",
      "          (norm): FrozenBatchNorm2d(num_features=128, eps=1e-05)\n",
      "        )\n",
      "        (conv3): Conv2d(\n",
      "          128, 512, kernel_size=(1, 1), stride=(1, 1), bias=False\n",
      "          (norm): FrozenBatchNorm2d(num_features=512, eps=1e-05)\n",
      "        )\n",
      "      )\n",
      "      (2): BottleneckBlock(\n",
      "        (conv1): Conv2d(\n",
      "          512, 128, kernel_size=(1, 1), stride=(1, 1), bias=False\n",
      "          (norm): FrozenBatchNorm2d(num_features=128, eps=1e-05)\n",
      "        )\n",
      "        (conv2): Conv2d(\n",
      "          128, 128, kernel_size=(3, 3), stride=(1, 1), padding=(1, 1), bias=False\n",
      "          (norm): FrozenBatchNorm2d(num_features=128, eps=1e-05)\n",
      "        )\n",
      "        (conv3): Conv2d(\n",
      "          128, 512, kernel_size=(1, 1), stride=(1, 1), bias=False\n",
      "          (norm): FrozenBatchNorm2d(num_features=512, eps=1e-05)\n",
      "        )\n",
      "      )\n",
      "      (3): BottleneckBlock(\n",
      "        (conv1): Conv2d(\n",
      "          512, 128, kernel_size=(1, 1), stride=(1, 1), bias=False\n",
      "          (norm): FrozenBatchNorm2d(num_features=128, eps=1e-05)\n",
      "        )\n",
      "        (conv2): Conv2d(\n",
      "          128, 128, kernel_size=(3, 3), stride=(1, 1), padding=(1, 1), bias=False\n",
      "          (norm): FrozenBatchNorm2d(num_features=128, eps=1e-05)\n",
      "        )\n",
      "        (conv3): Conv2d(\n",
      "          128, 512, kernel_size=(1, 1), stride=(1, 1), bias=False\n",
      "          (norm): FrozenBatchNorm2d(num_features=512, eps=1e-05)\n",
      "        )\n",
      "      )\n",
      "    )\n",
      "    (res4): Sequential(\n",
      "      (0): BottleneckBlock(\n",
      "        (shortcut): Conv2d(\n",
      "          512, 1024, kernel_size=(1, 1), stride=(2, 2), bias=False\n",
      "          (norm): FrozenBatchNorm2d(num_features=1024, eps=1e-05)\n",
      "        )\n",
      "        (conv1): Conv2d(\n",
      "          512, 256, kernel_size=(1, 1), stride=(2, 2), bias=False\n",
      "          (norm): FrozenBatchNorm2d(num_features=256, eps=1e-05)\n",
      "        )\n",
      "        (conv2): Conv2d(\n",
      "          256, 256, kernel_size=(3, 3), stride=(1, 1), padding=(1, 1), bias=False\n",
      "          (norm): FrozenBatchNorm2d(num_features=256, eps=1e-05)\n",
      "        )\n",
      "        (conv3): Conv2d(\n",
      "          256, 1024, kernel_size=(1, 1), stride=(1, 1), bias=False\n",
      "          (norm): FrozenBatchNorm2d(num_features=1024, eps=1e-05)\n",
      "        )\n",
      "      )\n",
      "      (1): BottleneckBlock(\n",
      "        (conv1): Conv2d(\n",
      "          1024, 256, kernel_size=(1, 1), stride=(1, 1), bias=False\n",
      "          (norm): FrozenBatchNorm2d(num_features=256, eps=1e-05)\n",
      "        )\n",
      "        (conv2): Conv2d(\n",
      "          256, 256, kernel_size=(3, 3), stride=(1, 1), padding=(1, 1), bias=False\n",
      "          (norm): FrozenBatchNorm2d(num_features=256, eps=1e-05)\n",
      "        )\n",
      "        (conv3): Conv2d(\n",
      "          256, 1024, kernel_size=(1, 1), stride=(1, 1), bias=False\n",
      "          (norm): FrozenBatchNorm2d(num_features=1024, eps=1e-05)\n",
      "        )\n",
      "      )\n",
      "      (2): BottleneckBlock(\n",
      "        (conv1): Conv2d(\n",
      "          1024, 256, kernel_size=(1, 1), stride=(1, 1), bias=False\n",
      "          (norm): FrozenBatchNorm2d(num_features=256, eps=1e-05)\n",
      "        )\n",
      "        (conv2): Conv2d(\n",
      "          256, 256, kernel_size=(3, 3), stride=(1, 1), padding=(1, 1), bias=False\n",
      "          (norm): FrozenBatchNorm2d(num_features=256, eps=1e-05)\n",
      "        )\n",
      "        (conv3): Conv2d(\n",
      "          256, 1024, kernel_size=(1, 1), stride=(1, 1), bias=False\n",
      "          (norm): FrozenBatchNorm2d(num_features=1024, eps=1e-05)\n",
      "        )\n",
      "      )\n",
      "      (3): BottleneckBlock(\n",
      "        (conv1): Conv2d(\n",
      "          1024, 256, kernel_size=(1, 1), stride=(1, 1), bias=False\n",
      "          (norm): FrozenBatchNorm2d(num_features=256, eps=1e-05)\n",
      "        )\n",
      "        (conv2): Conv2d(\n",
      "          256, 256, kernel_size=(3, 3), stride=(1, 1), padding=(1, 1), bias=False\n",
      "          (norm): FrozenBatchNorm2d(num_features=256, eps=1e-05)\n",
      "        )\n",
      "        (conv3): Conv2d(\n",
      "          256, 1024, kernel_size=(1, 1), stride=(1, 1), bias=False\n",
      "          (norm): FrozenBatchNorm2d(num_features=1024, eps=1e-05)\n",
      "        )\n",
      "      )\n",
      "      (4): BottleneckBlock(\n",
      "        (conv1): Conv2d(\n",
      "          1024, 256, kernel_size=(1, 1), stride=(1, 1), bias=False\n",
      "          (norm): FrozenBatchNorm2d(num_features=256, eps=1e-05)\n",
      "        )\n",
      "        (conv2): Conv2d(\n",
      "          256, 256, kernel_size=(3, 3), stride=(1, 1), padding=(1, 1), bias=False\n",
      "          (norm): FrozenBatchNorm2d(num_features=256, eps=1e-05)\n",
      "        )\n",
      "        (conv3): Conv2d(\n",
      "          256, 1024, kernel_size=(1, 1), stride=(1, 1), bias=False\n",
      "          (norm): FrozenBatchNorm2d(num_features=1024, eps=1e-05)\n",
      "        )\n",
      "      )\n",
      "      (5): BottleneckBlock(\n",
      "        (conv1): Conv2d(\n",
      "          1024, 256, kernel_size=(1, 1), stride=(1, 1), bias=False\n",
      "          (norm): FrozenBatchNorm2d(num_features=256, eps=1e-05)\n",
      "        )\n",
      "        (conv2): Conv2d(\n",
      "          256, 256, kernel_size=(3, 3), stride=(1, 1), padding=(1, 1), bias=False\n",
      "          (norm): FrozenBatchNorm2d(num_features=256, eps=1e-05)\n",
      "        )\n",
      "        (conv3): Conv2d(\n",
      "          256, 1024, kernel_size=(1, 1), stride=(1, 1), bias=False\n",
      "          (norm): FrozenBatchNorm2d(num_features=1024, eps=1e-05)\n",
      "        )\n",
      "      )\n",
      "    )\n",
      "  )\n",
      "  (proposal_generator): RPN(\n",
      "    (anchor_generator): DefaultAnchorGenerator(\n",
      "      (cell_anchors): BufferList()\n",
      "    )\n",
      "    (rpn_head): StandardRPNHead(\n",
      "      (conv): Conv2d(1024, 1024, kernel_size=(3, 3), stride=(1, 1), padding=(1, 1))\n",
      "      (objectness_logits): Conv2d(1024, 15, kernel_size=(1, 1), stride=(1, 1))\n",
      "      (anchor_deltas): Conv2d(1024, 60, kernel_size=(1, 1), stride=(1, 1))\n",
      "    )\n",
      "  )\n",
      "  (roi_heads): Res5ROIHeads(\n",
      "    (pooler): ROIPooler(\n",
      "      (level_poolers): ModuleList(\n",
      "        (0): ROIAlign(output_size=(14, 14), spatial_scale=0.0625, sampling_ratio=0, aligned=True)\n",
      "      )\n",
      "    )\n",
      "    (res5): Sequential(\n",
      "      (0): BottleneckBlock(\n",
      "        (shortcut): Conv2d(\n",
      "          1024, 2048, kernel_size=(1, 1), stride=(2, 2), bias=False\n",
      "          (norm): FrozenBatchNorm2d(num_features=2048, eps=1e-05)\n",
      "        )\n",
      "        (conv1): Conv2d(\n",
      "          1024, 512, kernel_size=(1, 1), stride=(2, 2), bias=False\n",
      "          (norm): FrozenBatchNorm2d(num_features=512, eps=1e-05)\n",
      "        )\n",
      "        (conv2): Conv2d(\n",
      "          512, 512, kernel_size=(3, 3), stride=(1, 1), padding=(1, 1), bias=False\n",
      "          (norm): FrozenBatchNorm2d(num_features=512, eps=1e-05)\n",
      "        )\n",
      "        (conv3): Conv2d(\n",
      "          512, 2048, kernel_size=(1, 1), stride=(1, 1), bias=False\n",
      "          (norm): FrozenBatchNorm2d(num_features=2048, eps=1e-05)\n",
      "        )\n",
      "      )\n",
      "      (1): BottleneckBlock(\n",
      "        (conv1): Conv2d(\n",
      "          2048, 512, kernel_size=(1, 1), stride=(1, 1), bias=False\n",
      "          (norm): FrozenBatchNorm2d(num_features=512, eps=1e-05)\n",
      "        )\n",
      "        (conv2): Conv2d(\n",
      "          512, 512, kernel_size=(3, 3), stride=(1, 1), padding=(1, 1), bias=False\n",
      "          (norm): FrozenBatchNorm2d(num_features=512, eps=1e-05)\n",
      "        )\n",
      "        (conv3): Conv2d(\n",
      "          512, 2048, kernel_size=(1, 1), stride=(1, 1), bias=False\n",
      "          (norm): FrozenBatchNorm2d(num_features=2048, eps=1e-05)\n",
      "        )\n",
      "      )\n",
      "      (2): BottleneckBlock(\n",
      "        (conv1): Conv2d(\n",
      "          2048, 512, kernel_size=(1, 1), stride=(1, 1), bias=False\n",
      "          (norm): FrozenBatchNorm2d(num_features=512, eps=1e-05)\n",
      "        )\n",
      "        (conv2): Conv2d(\n",
      "          512, 512, kernel_size=(3, 3), stride=(1, 1), padding=(1, 1), bias=False\n",
      "          (norm): FrozenBatchNorm2d(num_features=512, eps=1e-05)\n",
      "        )\n",
      "        (conv3): Conv2d(\n",
      "          512, 2048, kernel_size=(1, 1), stride=(1, 1), bias=False\n",
      "          (norm): FrozenBatchNorm2d(num_features=2048, eps=1e-05)\n",
      "        )\n",
      "      )\n",
      "    )\n",
      "    (box_predictor): FastRCNNOutputLayers(\n",
      "      (cls_score): Linear(in_features=2048, out_features=5, bias=True)\n",
      "      (bbox_pred): Linear(in_features=2048, out_features=16, bias=True)\n",
      "    )\n",
      "  )\n",
      ")\n"
     ]
    },
    {
     "name": "stdout",
     "output_type": "stream",
     "text": [
      "\u001b[32m[03/10 20:50:04 d2.data.build]: \u001b[0mRemoved 0 images with no usable annotations. 512 images left.\n",
      "\u001b[32m[03/10 20:50:04 d2.data.build]: \u001b[0mDistribution of instances among all 4 categories:\n",
      "\u001b[36m|  category  | #instances   |  category  | #instances   |  category  | #instances   |\n",
      "|:----------:|:-------------|:----------:|:-------------|:----------:|:-------------|\n",
      "|    sas     | 128          |     rh     | 128          |  anaconda  | 128          |\n",
      "|  cloudera  | 128          |            |              |            |              |\n",
      "|   total    | 512          |            |              |            |              |\u001b[0m\n",
      "\u001b[32m[03/10 20:50:04 d2.data.common]: \u001b[0mSerializing 512 elements to byte tensors and concatenating them all ...\n",
      "\u001b[32m[03/10 20:50:04 d2.data.common]: \u001b[0mSerialized dataset takes 0.11 MiB\n",
      "\u001b[32m[03/10 20:50:04 d2.data.detection_utils]: \u001b[0mTransformGens used in training: [ResizeShortestEdge(short_edge_length=(640, 672, 704, 736, 768, 800), max_size=1333, sample_style='choice'), RandomFlip()]\n",
      "\u001b[32m[03/10 20:50:04 d2.data.build]: \u001b[0mUsing training sampler TrainingSampler\n"
     ]
    },
    {
     "name": "stderr",
     "output_type": "stream",
     "text": [
      "'roi_heads.box_predictor.cls_score.weight' has shape (81, 2048) in the checkpoint but (5, 2048) in the model! Skipped.\n",
      "'roi_heads.box_predictor.cls_score.bias' has shape (81,) in the checkpoint but (5,) in the model! Skipped.\n",
      "'roi_heads.box_predictor.bbox_pred.weight' has shape (320, 2048) in the checkpoint but (16, 2048) in the model! Skipped.\n",
      "'roi_heads.box_predictor.bbox_pred.bias' has shape (320,) in the checkpoint but (16,) in the model! Skipped.\n"
     ]
    },
    {
     "name": "stdout",
     "output_type": "stream",
     "text": [
      "\u001b[32m[03/10 20:50:04 d2.engine.train_loop]: \u001b[0mStarting training from iteration 0\n",
      "\u001b[32m[03/10 20:50:10 d2.utils.events]: \u001b[0m eta: 0:09:12  iter: 19  total_loss: 2.410  loss_cls: 1.624  loss_box_reg: 0.529  loss_rpn_cls: 0.135  loss_rpn_loc: 0.020  time: 0.2795  data_time: 0.0156  lr: 0.000005  max_mem: 2412M\n",
      "\u001b[32m[03/10 20:50:15 d2.utils.events]: \u001b[0m eta: 0:08:53  iter: 39  total_loss: 2.052  loss_cls: 1.410  loss_box_reg: 0.550  loss_rpn_cls: 0.114  loss_rpn_loc: 0.022  time: 0.2730  data_time: 0.0032  lr: 0.000010  max_mem: 2412M\n",
      "\u001b[32m[03/10 20:50:20 d2.utils.events]: \u001b[0m eta: 0:08:43  iter: 59  total_loss: 1.660  loss_cls: 1.044  loss_box_reg: 0.548  loss_rpn_cls: 0.074  loss_rpn_loc: 0.015  time: 0.2701  data_time: 0.0031  lr: 0.000015  max_mem: 2412M\n",
      "\u001b[32m[03/10 20:50:26 d2.utils.events]: \u001b[0m eta: 0:08:38  iter: 79  total_loss: 1.422  loss_cls: 0.689  loss_box_reg: 0.550  loss_rpn_cls: 0.083  loss_rpn_loc: 0.015  time: 0.2692  data_time: 0.0031  lr: 0.000020  max_mem: 2412M\n",
      "\u001b[32m[03/10 20:50:31 d2.utils.events]: \u001b[0m eta: 0:08:30  iter: 99  total_loss: 1.118  loss_cls: 0.505  loss_box_reg: 0.478  loss_rpn_cls: 0.107  loss_rpn_loc: 0.018  time: 0.2689  data_time: 0.0031  lr: 0.000025  max_mem: 2412M\n",
      "\u001b[32m[03/10 20:50:37 d2.utils.events]: \u001b[0m eta: 0:08:28  iter: 119  total_loss: 1.225  loss_cls: 0.508  loss_box_reg: 0.629  loss_rpn_cls: 0.081  loss_rpn_loc: 0.015  time: 0.2696  data_time: 0.0029  lr: 0.000030  max_mem: 2412M\n",
      "\u001b[32m[03/10 20:50:42 d2.utils.events]: \u001b[0m eta: 0:08:22  iter: 139  total_loss: 1.242  loss_cls: 0.490  loss_box_reg: 0.595  loss_rpn_cls: 0.079  loss_rpn_loc: 0.016  time: 0.2694  data_time: 0.0031  lr: 0.000035  max_mem: 2412M\n",
      "\u001b[32m[03/10 20:50:47 d2.utils.events]: \u001b[0m eta: 0:08:17  iter: 159  total_loss: 1.140  loss_cls: 0.453  loss_box_reg: 0.616  loss_rpn_cls: 0.041  loss_rpn_loc: 0.015  time: 0.2699  data_time: 0.0031  lr: 0.000040  max_mem: 2412M\n",
      "\u001b[32m[03/10 20:50:53 d2.utils.events]: \u001b[0m eta: 0:08:12  iter: 179  total_loss: 1.068  loss_cls: 0.406  loss_box_reg: 0.590  loss_rpn_cls: 0.046  loss_rpn_loc: 0.014  time: 0.2695  data_time: 0.0028  lr: 0.000045  max_mem: 2412M\n",
      "\u001b[32m[03/10 20:50:58 d2.utils.events]: \u001b[0m eta: 0:08:07  iter: 199  total_loss: 1.092  loss_cls: 0.406  loss_box_reg: 0.646  loss_rpn_cls: 0.024  loss_rpn_loc: 0.013  time: 0.2697  data_time: 0.0031  lr: 0.000050  max_mem: 2412M\n",
      "\u001b[32m[03/10 20:51:04 d2.utils.events]: \u001b[0m eta: 0:08:01  iter: 219  total_loss: 1.144  loss_cls: 0.378  loss_box_reg: 0.636  loss_rpn_cls: 0.028  loss_rpn_loc: 0.016  time: 0.2696  data_time: 0.0031  lr: 0.000055  max_mem: 2412M\n",
      "\u001b[32m[03/10 20:51:09 d2.utils.events]: \u001b[0m eta: 0:07:54  iter: 239  total_loss: 1.231  loss_cls: 0.408  loss_box_reg: 0.757  loss_rpn_cls: 0.029  loss_rpn_loc: 0.016  time: 0.2694  data_time: 0.0030  lr: 0.000060  max_mem: 2412M\n",
      "\u001b[32m[03/10 20:51:14 d2.utils.events]: \u001b[0m eta: 0:07:49  iter: 259  total_loss: 1.136  loss_cls: 0.355  loss_box_reg: 0.754  loss_rpn_cls: 0.015  loss_rpn_loc: 0.015  time: 0.2695  data_time: 0.0029  lr: 0.000065  max_mem: 2412M\n",
      "\u001b[32m[03/10 20:51:20 d2.utils.events]: \u001b[0m eta: 0:07:44  iter: 279  total_loss: 1.092  loss_cls: 0.342  loss_box_reg: 0.726  loss_rpn_cls: 0.018  loss_rpn_loc: 0.012  time: 0.2696  data_time: 0.0030  lr: 0.000070  max_mem: 2412M\n",
      "\u001b[32m[03/10 20:51:25 d2.utils.events]: \u001b[0m eta: 0:07:38  iter: 299  total_loss: 1.105  loss_cls: 0.327  loss_box_reg: 0.731  loss_rpn_cls: 0.020  loss_rpn_loc: 0.016  time: 0.2695  data_time: 0.0030  lr: 0.000075  max_mem: 2412M\n",
      "\u001b[32m[03/10 20:51:31 d2.utils.events]: \u001b[0m eta: 0:07:32  iter: 319  total_loss: 1.117  loss_cls: 0.337  loss_box_reg: 0.729  loss_rpn_cls: 0.018  loss_rpn_loc: 0.011  time: 0.2694  data_time: 0.0032  lr: 0.000080  max_mem: 2412M\n",
      "\u001b[32m[03/10 20:51:36 d2.utils.events]: \u001b[0m eta: 0:07:27  iter: 339  total_loss: 1.132  loss_cls: 0.329  loss_box_reg: 0.737  loss_rpn_cls: 0.017  loss_rpn_loc: 0.013  time: 0.2696  data_time: 0.0031  lr: 0.000085  max_mem: 2412M\n",
      "\u001b[32m[03/10 20:51:41 d2.utils.events]: \u001b[0m eta: 0:07:22  iter: 359  total_loss: 1.090  loss_cls: 0.300  loss_box_reg: 0.747  loss_rpn_cls: 0.007  loss_rpn_loc: 0.010  time: 0.2696  data_time: 0.0034  lr: 0.000090  max_mem: 2412M\n",
      "\u001b[32m[03/10 20:51:47 d2.utils.events]: \u001b[0m eta: 0:07:17  iter: 379  total_loss: 1.023  loss_cls: 0.268  loss_box_reg: 0.735  loss_rpn_cls: 0.007  loss_rpn_loc: 0.015  time: 0.2696  data_time: 0.0031  lr: 0.000095  max_mem: 2412M\n",
      "\u001b[32m[03/10 20:51:52 d2.utils.events]: \u001b[0m eta: 0:07:12  iter: 399  total_loss: 0.996  loss_cls: 0.239  loss_box_reg: 0.736  loss_rpn_cls: 0.006  loss_rpn_loc: 0.015  time: 0.2698  data_time: 0.0030  lr: 0.000100  max_mem: 2412M\n",
      "\u001b[32m[03/10 20:51:58 d2.utils.events]: \u001b[0m eta: 0:07:07  iter: 419  total_loss: 0.936  loss_cls: 0.208  loss_box_reg: 0.727  loss_rpn_cls: 0.007  loss_rpn_loc: 0.011  time: 0.2700  data_time: 0.0032  lr: 0.000105  max_mem: 2412M\n",
      "\u001b[32m[03/10 20:52:03 d2.utils.events]: \u001b[0m eta: 0:07:01  iter: 439  total_loss: 0.852  loss_cls: 0.180  loss_box_reg: 0.653  loss_rpn_cls: 0.006  loss_rpn_loc: 0.012  time: 0.2700  data_time: 0.0030  lr: 0.000110  max_mem: 2412M\n",
      "\u001b[32m[03/10 20:52:09 d2.utils.events]: \u001b[0m eta: 0:06:56  iter: 459  total_loss: 0.867  loss_cls: 0.147  loss_box_reg: 0.694  loss_rpn_cls: 0.005  loss_rpn_loc: 0.014  time: 0.2702  data_time: 0.0031  lr: 0.000115  max_mem: 2412M\n",
      "\u001b[32m[03/10 20:52:14 d2.utils.events]: \u001b[0m eta: 0:06:51  iter: 479  total_loss: 0.807  loss_cls: 0.128  loss_box_reg: 0.648  loss_rpn_cls: 0.003  loss_rpn_loc: 0.010  time: 0.2703  data_time: 0.0031  lr: 0.000120  max_mem: 2412M\n",
      "\u001b[32m[03/10 20:52:20 d2.utils.events]: \u001b[0m eta: 0:06:45  iter: 499  total_loss: 0.676  loss_cls: 0.100  loss_box_reg: 0.539  loss_rpn_cls: 0.004  loss_rpn_loc: 0.013  time: 0.2703  data_time: 0.0032  lr: 0.000125  max_mem: 2412M\n",
      "\u001b[32m[03/10 20:52:25 d2.utils.events]: \u001b[0m eta: 0:06:40  iter: 519  total_loss: 0.582  loss_cls: 0.085  loss_box_reg: 0.455  loss_rpn_cls: 0.003  loss_rpn_loc: 0.013  time: 0.2702  data_time: 0.0029  lr: 0.000130  max_mem: 2412M\n",
      "\u001b[32m[03/10 20:52:30 d2.utils.events]: \u001b[0m eta: 0:06:35  iter: 539  total_loss: 0.569  loss_cls: 0.081  loss_box_reg: 0.461  loss_rpn_cls: 0.003  loss_rpn_loc: 0.013  time: 0.2703  data_time: 0.0032  lr: 0.000135  max_mem: 2412M\n",
      "\u001b[32m[03/10 20:52:36 d2.utils.events]: \u001b[0m eta: 0:06:29  iter: 559  total_loss: 0.530  loss_cls: 0.074  loss_box_reg: 0.407  loss_rpn_cls: 0.003  loss_rpn_loc: 0.012  time: 0.2703  data_time: 0.0032  lr: 0.000140  max_mem: 2412M\n",
      "\u001b[32m[03/10 20:52:41 d2.utils.events]: \u001b[0m eta: 0:06:24  iter: 579  total_loss: 0.482  loss_cls: 0.068  loss_box_reg: 0.375  loss_rpn_cls: 0.003  loss_rpn_loc: 0.010  time: 0.2704  data_time: 0.0032  lr: 0.000145  max_mem: 2412M\n",
      "\u001b[32m[03/10 20:52:47 d2.utils.events]: \u001b[0m eta: 0:06:19  iter: 599  total_loss: 0.510  loss_cls: 0.071  loss_box_reg: 0.405  loss_rpn_cls: 0.003  loss_rpn_loc: 0.014  time: 0.2704  data_time: 0.0031  lr: 0.000150  max_mem: 2412M\n",
      "\u001b[32m[03/10 20:52:52 d2.utils.events]: \u001b[0m eta: 0:06:13  iter: 619  total_loss: 0.401  loss_cls: 0.067  loss_box_reg: 0.317  loss_rpn_cls: 0.003  loss_rpn_loc: 0.009  time: 0.2704  data_time: 0.0030  lr: 0.000155  max_mem: 2412M\n",
      "\u001b[32m[03/10 20:52:58 d2.utils.events]: \u001b[0m eta: 0:06:08  iter: 639  total_loss: 0.416  loss_cls: 0.056  loss_box_reg: 0.325  loss_rpn_cls: 0.003  loss_rpn_loc: 0.011  time: 0.2705  data_time: 0.0031  lr: 0.000160  max_mem: 2412M\n",
      "\u001b[32m[03/10 20:53:03 d2.utils.events]: \u001b[0m eta: 0:06:02  iter: 659  total_loss: 0.386  loss_cls: 0.066  loss_box_reg: 0.305  loss_rpn_cls: 0.002  loss_rpn_loc: 0.011  time: 0.2705  data_time: 0.0031  lr: 0.000165  max_mem: 2412M\n",
      "\u001b[32m[03/10 20:53:09 d2.utils.events]: \u001b[0m eta: 0:05:57  iter: 679  total_loss: 0.359  loss_cls: 0.056  loss_box_reg: 0.286  loss_rpn_cls: 0.002  loss_rpn_loc: 0.009  time: 0.2705  data_time: 0.0030  lr: 0.000170  max_mem: 2412M\n",
      "\u001b[32m[03/10 20:53:14 d2.utils.events]: \u001b[0m eta: 0:05:51  iter: 699  total_loss: 0.393  loss_cls: 0.065  loss_box_reg: 0.310  loss_rpn_cls: 0.002  loss_rpn_loc: 0.012  time: 0.2705  data_time: 0.0028  lr: 0.000175  max_mem: 2412M\n",
      "\u001b[32m[03/10 20:53:19 d2.utils.events]: \u001b[0m eta: 0:05:46  iter: 719  total_loss: 0.374  loss_cls: 0.064  loss_box_reg: 0.301  loss_rpn_cls: 0.003  loss_rpn_loc: 0.009  time: 0.2706  data_time: 0.0028  lr: 0.000180  max_mem: 2412M\n"
     ]
    },
    {
     "name": "stdout",
     "output_type": "stream",
     "text": [
      "\u001b[32m[03/10 20:53:25 d2.utils.events]: \u001b[0m eta: 0:05:41  iter: 739  total_loss: 0.425  loss_cls: 0.049  loss_box_reg: 0.339  loss_rpn_cls: 0.003  loss_rpn_loc: 0.012  time: 0.2705  data_time: 0.0031  lr: 0.000185  max_mem: 2412M\n",
      "\u001b[32m[03/10 20:53:30 d2.utils.events]: \u001b[0m eta: 0:05:35  iter: 759  total_loss: 0.416  loss_cls: 0.058  loss_box_reg: 0.347  loss_rpn_cls: 0.002  loss_rpn_loc: 0.011  time: 0.2705  data_time: 0.0031  lr: 0.000190  max_mem: 2412M\n",
      "\u001b[32m[03/10 20:53:36 d2.utils.events]: \u001b[0m eta: 0:05:30  iter: 779  total_loss: 0.359  loss_cls: 0.049  loss_box_reg: 0.286  loss_rpn_cls: 0.002  loss_rpn_loc: 0.009  time: 0.2705  data_time: 0.0030  lr: 0.000195  max_mem: 2412M\n",
      "\u001b[32m[03/10 20:53:41 d2.utils.events]: \u001b[0m eta: 0:05:25  iter: 799  total_loss: 0.385  loss_cls: 0.064  loss_box_reg: 0.302  loss_rpn_cls: 0.002  loss_rpn_loc: 0.011  time: 0.2706  data_time: 0.0034  lr: 0.000200  max_mem: 2412M\n",
      "\u001b[32m[03/10 20:53:47 d2.utils.events]: \u001b[0m eta: 0:05:19  iter: 819  total_loss: 0.357  loss_cls: 0.052  loss_box_reg: 0.286  loss_rpn_cls: 0.002  loss_rpn_loc: 0.010  time: 0.2706  data_time: 0.0029  lr: 0.000205  max_mem: 2412M\n",
      "\u001b[32m[03/10 20:53:52 d2.utils.events]: \u001b[0m eta: 0:05:14  iter: 839  total_loss: 0.354  loss_cls: 0.051  loss_box_reg: 0.286  loss_rpn_cls: 0.001  loss_rpn_loc: 0.012  time: 0.2706  data_time: 0.0031  lr: 0.000210  max_mem: 2412M\n",
      "\u001b[32m[03/10 20:53:58 d2.utils.events]: \u001b[0m eta: 0:05:09  iter: 859  total_loss: 0.362  loss_cls: 0.053  loss_box_reg: 0.297  loss_rpn_cls: 0.002  loss_rpn_loc: 0.009  time: 0.2707  data_time: 0.0031  lr: 0.000215  max_mem: 2412M\n",
      "\u001b[32m[03/10 20:54:03 d2.utils.events]: \u001b[0m eta: 0:05:03  iter: 879  total_loss: 0.344  loss_cls: 0.056  loss_box_reg: 0.291  loss_rpn_cls: 0.002  loss_rpn_loc: 0.009  time: 0.2708  data_time: 0.0030  lr: 0.000220  max_mem: 2412M\n",
      "\u001b[32m[03/10 20:54:08 d2.utils.events]: \u001b[0m eta: 0:04:58  iter: 899  total_loss: 0.368  loss_cls: 0.055  loss_box_reg: 0.290  loss_rpn_cls: 0.002  loss_rpn_loc: 0.014  time: 0.2708  data_time: 0.0029  lr: 0.000225  max_mem: 2412M\n",
      "\u001b[32m[03/10 20:54:14 d2.utils.events]: \u001b[0m eta: 0:04:52  iter: 919  total_loss: 0.350  loss_cls: 0.045  loss_box_reg: 0.288  loss_rpn_cls: 0.001  loss_rpn_loc: 0.009  time: 0.2708  data_time: 0.0030  lr: 0.000230  max_mem: 2412M\n",
      "\u001b[32m[03/10 20:54:19 d2.utils.events]: \u001b[0m eta: 0:04:47  iter: 939  total_loss: 0.334  loss_cls: 0.062  loss_box_reg: 0.256  loss_rpn_cls: 0.002  loss_rpn_loc: 0.011  time: 0.2709  data_time: 0.0031  lr: 0.000235  max_mem: 2412M\n",
      "\u001b[32m[03/10 20:54:25 d2.utils.events]: \u001b[0m eta: 0:04:42  iter: 959  total_loss: 0.329  loss_cls: 0.041  loss_box_reg: 0.269  loss_rpn_cls: 0.001  loss_rpn_loc: 0.009  time: 0.2709  data_time: 0.0029  lr: 0.000240  max_mem: 2412M\n",
      "\u001b[32m[03/10 20:54:30 d2.utils.events]: \u001b[0m eta: 0:04:36  iter: 979  total_loss: 0.281  loss_cls: 0.049  loss_box_reg: 0.230  loss_rpn_cls: 0.001  loss_rpn_loc: 0.008  time: 0.2709  data_time: 0.0030  lr: 0.000245  max_mem: 2412M\n",
      "\u001b[32m[03/10 20:54:36 d2.utils.events]: \u001b[0m eta: 0:04:31  iter: 999  total_loss: 0.284  loss_cls: 0.048  loss_box_reg: 0.212  loss_rpn_cls: 0.001  loss_rpn_loc: 0.008  time: 0.2710  data_time: 0.0033  lr: 0.000250  max_mem: 2412M\n",
      "\u001b[32m[03/10 20:54:41 d2.utils.events]: \u001b[0m eta: 0:04:25  iter: 1019  total_loss: 0.300  loss_cls: 0.041  loss_box_reg: 0.250  loss_rpn_cls: 0.002  loss_rpn_loc: 0.008  time: 0.2709  data_time: 0.0038  lr: 0.000250  max_mem: 2412M\n",
      "\u001b[32m[03/10 20:54:47 d2.utils.events]: \u001b[0m eta: 0:04:20  iter: 1039  total_loss: 0.335  loss_cls: 0.055  loss_box_reg: 0.275  loss_rpn_cls: 0.001  loss_rpn_loc: 0.012  time: 0.2710  data_time: 0.0031  lr: 0.000250  max_mem: 2412M\n",
      "\u001b[32m[03/10 20:54:52 d2.utils.events]: \u001b[0m eta: 0:04:15  iter: 1059  total_loss: 0.292  loss_cls: 0.038  loss_box_reg: 0.245  loss_rpn_cls: 0.001  loss_rpn_loc: 0.009  time: 0.2710  data_time: 0.0031  lr: 0.000250  max_mem: 2412M\n",
      "\u001b[32m[03/10 20:54:58 d2.utils.events]: \u001b[0m eta: 0:04:10  iter: 1079  total_loss: 0.367  loss_cls: 0.049  loss_box_reg: 0.305  loss_rpn_cls: 0.001  loss_rpn_loc: 0.009  time: 0.2711  data_time: 0.0029  lr: 0.000250  max_mem: 2412M\n",
      "\u001b[32m[03/10 20:55:03 d2.utils.events]: \u001b[0m eta: 0:04:04  iter: 1099  total_loss: 0.306  loss_cls: 0.045  loss_box_reg: 0.232  loss_rpn_cls: 0.001  loss_rpn_loc: 0.008  time: 0.2711  data_time: 0.0031  lr: 0.000250  max_mem: 2412M\n",
      "\u001b[32m[03/10 20:55:09 d2.utils.events]: \u001b[0m eta: 0:03:59  iter: 1119  total_loss: 0.357  loss_cls: 0.054  loss_box_reg: 0.281  loss_rpn_cls: 0.001  loss_rpn_loc: 0.013  time: 0.2711  data_time: 0.0029  lr: 0.000250  max_mem: 2412M\n",
      "\u001b[32m[03/10 20:55:14 d2.utils.events]: \u001b[0m eta: 0:03:53  iter: 1139  total_loss: 0.298  loss_cls: 0.046  loss_box_reg: 0.230  loss_rpn_cls: 0.001  loss_rpn_loc: 0.009  time: 0.2711  data_time: 0.0030  lr: 0.000250  max_mem: 2412M\n",
      "\u001b[32m[03/10 20:55:19 d2.utils.events]: \u001b[0m eta: 0:03:48  iter: 1159  total_loss: 0.232  loss_cls: 0.036  loss_box_reg: 0.182  loss_rpn_cls: 0.001  loss_rpn_loc: 0.008  time: 0.2711  data_time: 0.0029  lr: 0.000250  max_mem: 2412M\n",
      "\u001b[32m[03/10 20:55:25 d2.utils.events]: \u001b[0m eta: 0:03:42  iter: 1179  total_loss: 0.289  loss_cls: 0.050  loss_box_reg: 0.242  loss_rpn_cls: 0.001  loss_rpn_loc: 0.009  time: 0.2711  data_time: 0.0032  lr: 0.000250  max_mem: 2412M\n",
      "\u001b[32m[03/10 20:55:30 d2.utils.events]: \u001b[0m eta: 0:03:37  iter: 1199  total_loss: 0.285  loss_cls: 0.048  loss_box_reg: 0.229  loss_rpn_cls: 0.001  loss_rpn_loc: 0.007  time: 0.2711  data_time: 0.0031  lr: 0.000250  max_mem: 2412M\n",
      "\u001b[32m[03/10 20:55:36 d2.utils.events]: \u001b[0m eta: 0:03:32  iter: 1219  total_loss: 0.288  loss_cls: 0.045  loss_box_reg: 0.231  loss_rpn_cls: 0.001  loss_rpn_loc: 0.010  time: 0.2710  data_time: 0.0031  lr: 0.000250  max_mem: 2412M\n",
      "\u001b[32m[03/10 20:55:41 d2.utils.events]: \u001b[0m eta: 0:03:26  iter: 1239  total_loss: 0.285  loss_cls: 0.038  loss_box_reg: 0.226  loss_rpn_cls: 0.001  loss_rpn_loc: 0.007  time: 0.2711  data_time: 0.0030  lr: 0.000250  max_mem: 2412M\n",
      "\u001b[32m[03/10 20:55:47 d2.utils.events]: \u001b[0m eta: 0:03:21  iter: 1259  total_loss: 0.277  loss_cls: 0.039  loss_box_reg: 0.231  loss_rpn_cls: 0.001  loss_rpn_loc: 0.007  time: 0.2711  data_time: 0.0030  lr: 0.000250  max_mem: 2412M\n",
      "\u001b[32m[03/10 20:55:52 d2.utils.events]: \u001b[0m eta: 0:03:16  iter: 1279  total_loss: 0.250  loss_cls: 0.040  loss_box_reg: 0.196  loss_rpn_cls: 0.001  loss_rpn_loc: 0.009  time: 0.2710  data_time: 0.0031  lr: 0.000250  max_mem: 2412M\n",
      "\u001b[32m[03/10 20:55:57 d2.utils.events]: \u001b[0m eta: 0:03:10  iter: 1299  total_loss: 0.268  loss_cls: 0.040  loss_box_reg: 0.209  loss_rpn_cls: 0.001  loss_rpn_loc: 0.007  time: 0.2711  data_time: 0.0029  lr: 0.000250  max_mem: 2412M\n",
      "\u001b[32m[03/10 20:56:03 d2.utils.events]: \u001b[0m eta: 0:03:05  iter: 1319  total_loss: 0.256  loss_cls: 0.042  loss_box_reg: 0.212  loss_rpn_cls: 0.001  loss_rpn_loc: 0.008  time: 0.2710  data_time: 0.0029  lr: 0.000250  max_mem: 2412M\n",
      "\u001b[32m[03/10 20:56:08 d2.utils.events]: \u001b[0m eta: 0:02:59  iter: 1339  total_loss: 0.251  loss_cls: 0.039  loss_box_reg: 0.196  loss_rpn_cls: 0.001  loss_rpn_loc: 0.010  time: 0.2711  data_time: 0.0030  lr: 0.000250  max_mem: 2412M\n",
      "\u001b[32m[03/10 20:56:14 d2.utils.events]: \u001b[0m eta: 0:02:54  iter: 1359  total_loss: 0.267  loss_cls: 0.043  loss_box_reg: 0.210  loss_rpn_cls: 0.001  loss_rpn_loc: 0.010  time: 0.2711  data_time: 0.0031  lr: 0.000250  max_mem: 2412M\n",
      "\u001b[32m[03/10 20:56:19 d2.utils.events]: \u001b[0m eta: 0:02:48  iter: 1379  total_loss: 0.237  loss_cls: 0.041  loss_box_reg: 0.180  loss_rpn_cls: 0.001  loss_rpn_loc: 0.008  time: 0.2710  data_time: 0.0031  lr: 0.000250  max_mem: 2412M\n",
      "\u001b[32m[03/10 20:56:25 d2.utils.events]: \u001b[0m eta: 0:02:43  iter: 1399  total_loss: 0.233  loss_cls: 0.040  loss_box_reg: 0.182  loss_rpn_cls: 0.001  loss_rpn_loc: 0.008  time: 0.2711  data_time: 0.0030  lr: 0.000250  max_mem: 2412M\n",
      "\u001b[32m[03/10 20:56:30 d2.utils.events]: \u001b[0m eta: 0:02:38  iter: 1419  total_loss: 0.254  loss_cls: 0.032  loss_box_reg: 0.214  loss_rpn_cls: 0.001  loss_rpn_loc: 0.009  time: 0.2711  data_time: 0.0031  lr: 0.000250  max_mem: 2412M\n",
      "\u001b[32m[03/10 20:56:35 d2.utils.events]: \u001b[0m eta: 0:02:32  iter: 1439  total_loss: 0.252  loss_cls: 0.038  loss_box_reg: 0.195  loss_rpn_cls: 0.002  loss_rpn_loc: 0.007  time: 0.2711  data_time: 0.0030  lr: 0.000250  max_mem: 2412M\n"
     ]
    },
    {
     "name": "stdout",
     "output_type": "stream",
     "text": [
      "\u001b[32m[03/10 20:56:41 d2.utils.events]: \u001b[0m eta: 0:02:27  iter: 1459  total_loss: 0.240  loss_cls: 0.038  loss_box_reg: 0.195  loss_rpn_cls: 0.001  loss_rpn_loc: 0.008  time: 0.2711  data_time: 0.0030  lr: 0.000250  max_mem: 2412M\n",
      "\u001b[32m[03/10 20:56:46 d2.utils.events]: \u001b[0m eta: 0:02:21  iter: 1479  total_loss: 0.262  loss_cls: 0.041  loss_box_reg: 0.213  loss_rpn_cls: 0.001  loss_rpn_loc: 0.009  time: 0.2711  data_time: 0.0029  lr: 0.000250  max_mem: 2412M\n",
      "\u001b[32m[03/10 20:56:52 d2.utils.events]: \u001b[0m eta: 0:02:16  iter: 1499  total_loss: 0.253  loss_cls: 0.040  loss_box_reg: 0.211  loss_rpn_cls: 0.001  loss_rpn_loc: 0.008  time: 0.2712  data_time: 0.0030  lr: 0.000250  max_mem: 2412M\n",
      "\u001b[32m[03/10 20:56:57 d2.utils.events]: \u001b[0m eta: 0:02:10  iter: 1519  total_loss: 0.245  loss_cls: 0.038  loss_box_reg: 0.197  loss_rpn_cls: 0.000  loss_rpn_loc: 0.007  time: 0.2712  data_time: 0.0030  lr: 0.000250  max_mem: 2412M\n",
      "\u001b[32m[03/10 20:57:03 d2.utils.events]: \u001b[0m eta: 0:02:05  iter: 1539  total_loss: 0.265  loss_cls: 0.039  loss_box_reg: 0.217  loss_rpn_cls: 0.002  loss_rpn_loc: 0.009  time: 0.2712  data_time: 0.0031  lr: 0.000250  max_mem: 2412M\n",
      "\u001b[32m[03/10 20:57:08 d2.utils.events]: \u001b[0m eta: 0:02:00  iter: 1559  total_loss: 0.213  loss_cls: 0.039  loss_box_reg: 0.169  loss_rpn_cls: 0.001  loss_rpn_loc: 0.007  time: 0.2712  data_time: 0.0032  lr: 0.000250  max_mem: 2412M\n",
      "\u001b[32m[03/10 20:57:14 d2.utils.events]: \u001b[0m eta: 0:01:54  iter: 1579  total_loss: 0.239  loss_cls: 0.036  loss_box_reg: 0.194  loss_rpn_cls: 0.001  loss_rpn_loc: 0.008  time: 0.2712  data_time: 0.0030  lr: 0.000250  max_mem: 2412M\n",
      "\u001b[32m[03/10 20:57:19 d2.utils.events]: \u001b[0m eta: 0:01:49  iter: 1599  total_loss: 0.245  loss_cls: 0.037  loss_box_reg: 0.196  loss_rpn_cls: 0.001  loss_rpn_loc: 0.007  time: 0.2712  data_time: 0.0029  lr: 0.000250  max_mem: 2412M\n",
      "\u001b[32m[03/10 20:57:25 d2.utils.events]: \u001b[0m eta: 0:01:43  iter: 1619  total_loss: 0.220  loss_cls: 0.033  loss_box_reg: 0.169  loss_rpn_cls: 0.001  loss_rpn_loc: 0.009  time: 0.2712  data_time: 0.0031  lr: 0.000250  max_mem: 2412M\n",
      "\u001b[32m[03/10 20:57:30 d2.utils.events]: \u001b[0m eta: 0:01:38  iter: 1639  total_loss: 0.231  loss_cls: 0.035  loss_box_reg: 0.197  loss_rpn_cls: 0.001  loss_rpn_loc: 0.006  time: 0.2712  data_time: 0.0030  lr: 0.000250  max_mem: 2412M\n",
      "\u001b[32m[03/10 20:57:35 d2.utils.events]: \u001b[0m eta: 0:01:32  iter: 1659  total_loss: 0.220  loss_cls: 0.037  loss_box_reg: 0.189  loss_rpn_cls: 0.001  loss_rpn_loc: 0.006  time: 0.2712  data_time: 0.0030  lr: 0.000250  max_mem: 2412M\n",
      "\u001b[32m[03/10 20:57:41 d2.utils.events]: \u001b[0m eta: 0:01:27  iter: 1679  total_loss: 0.246  loss_cls: 0.036  loss_box_reg: 0.205  loss_rpn_cls: 0.002  loss_rpn_loc: 0.008  time: 0.2712  data_time: 0.0031  lr: 0.000250  max_mem: 2412M\n",
      "\u001b[32m[03/10 20:57:46 d2.utils.events]: \u001b[0m eta: 0:01:21  iter: 1699  total_loss: 0.250  loss_cls: 0.037  loss_box_reg: 0.200  loss_rpn_cls: 0.001  loss_rpn_loc: 0.010  time: 0.2711  data_time: 0.0029  lr: 0.000250  max_mem: 2412M\n",
      "\u001b[32m[03/10 20:57:52 d2.utils.events]: \u001b[0m eta: 0:01:16  iter: 1719  total_loss: 0.195  loss_cls: 0.033  loss_box_reg: 0.148  loss_rpn_cls: 0.001  loss_rpn_loc: 0.006  time: 0.2711  data_time: 0.0030  lr: 0.000250  max_mem: 2412M\n",
      "\u001b[32m[03/10 20:57:57 d2.utils.events]: \u001b[0m eta: 0:01:11  iter: 1739  total_loss: 0.258  loss_cls: 0.042  loss_box_reg: 0.202  loss_rpn_cls: 0.001  loss_rpn_loc: 0.008  time: 0.2711  data_time: 0.0031  lr: 0.000250  max_mem: 2412M\n",
      "\u001b[32m[03/10 20:58:03 d2.utils.events]: \u001b[0m eta: 0:01:05  iter: 1759  total_loss: 0.257  loss_cls: 0.041  loss_box_reg: 0.213  loss_rpn_cls: 0.001  loss_rpn_loc: 0.008  time: 0.2712  data_time: 0.0032  lr: 0.000250  max_mem: 2412M\n",
      "\u001b[32m[03/10 20:58:08 d2.utils.events]: \u001b[0m eta: 0:01:00  iter: 1779  total_loss: 0.246  loss_cls: 0.037  loss_box_reg: 0.203  loss_rpn_cls: 0.001  loss_rpn_loc: 0.006  time: 0.2712  data_time: 0.0030  lr: 0.000250  max_mem: 2412M\n",
      "\u001b[32m[03/10 20:58:13 d2.utils.events]: \u001b[0m eta: 0:00:54  iter: 1799  total_loss: 0.255  loss_cls: 0.035  loss_box_reg: 0.204  loss_rpn_cls: 0.001  loss_rpn_loc: 0.007  time: 0.2712  data_time: 0.0031  lr: 0.000250  max_mem: 2412M\n",
      "\u001b[32m[03/10 20:58:19 d2.utils.events]: \u001b[0m eta: 0:00:49  iter: 1819  total_loss: 0.218  loss_cls: 0.044  loss_box_reg: 0.171  loss_rpn_cls: 0.000  loss_rpn_loc: 0.007  time: 0.2712  data_time: 0.0030  lr: 0.000250  max_mem: 2412M\n",
      "\u001b[32m[03/10 20:58:24 d2.utils.events]: \u001b[0m eta: 0:00:43  iter: 1839  total_loss: 0.221  loss_cls: 0.029  loss_box_reg: 0.193  loss_rpn_cls: 0.001  loss_rpn_loc: 0.007  time: 0.2712  data_time: 0.0030  lr: 0.000250  max_mem: 2412M\n",
      "\u001b[32m[03/10 20:58:30 d2.utils.events]: \u001b[0m eta: 0:00:38  iter: 1859  total_loss: 0.204  loss_cls: 0.028  loss_box_reg: 0.162  loss_rpn_cls: 0.001  loss_rpn_loc: 0.007  time: 0.2712  data_time: 0.0029  lr: 0.000250  max_mem: 2412M\n",
      "\u001b[32m[03/10 20:58:35 d2.utils.events]: \u001b[0m eta: 0:00:32  iter: 1879  total_loss: 0.236  loss_cls: 0.035  loss_box_reg: 0.191  loss_rpn_cls: 0.000  loss_rpn_loc: 0.007  time: 0.2712  data_time: 0.0032  lr: 0.000250  max_mem: 2412M\n",
      "\u001b[32m[03/10 20:58:41 d2.utils.events]: \u001b[0m eta: 0:00:27  iter: 1899  total_loss: 0.220  loss_cls: 0.031  loss_box_reg: 0.174  loss_rpn_cls: 0.001  loss_rpn_loc: 0.008  time: 0.2712  data_time: 0.0030  lr: 0.000250  max_mem: 2412M\n",
      "\u001b[32m[03/10 20:58:46 d2.utils.events]: \u001b[0m eta: 0:00:22  iter: 1919  total_loss: 0.252  loss_cls: 0.046  loss_box_reg: 0.188  loss_rpn_cls: 0.002  loss_rpn_loc: 0.008  time: 0.2712  data_time: 0.0029  lr: 0.000250  max_mem: 2412M\n",
      "\u001b[32m[03/10 20:58:52 d2.utils.events]: \u001b[0m eta: 0:00:16  iter: 1939  total_loss: 0.258  loss_cls: 0.043  loss_box_reg: 0.206  loss_rpn_cls: 0.001  loss_rpn_loc: 0.006  time: 0.2712  data_time: 0.0031  lr: 0.000250  max_mem: 2412M\n",
      "\u001b[32m[03/10 20:58:57 d2.utils.events]: \u001b[0m eta: 0:00:11  iter: 1959  total_loss: 0.207  loss_cls: 0.034  loss_box_reg: 0.162  loss_rpn_cls: 0.001  loss_rpn_loc: 0.006  time: 0.2712  data_time: 0.0030  lr: 0.000250  max_mem: 2412M\n",
      "\u001b[32m[03/10 20:59:02 d2.utils.events]: \u001b[0m eta: 0:00:05  iter: 1979  total_loss: 0.200  loss_cls: 0.034  loss_box_reg: 0.164  loss_rpn_cls: 0.001  loss_rpn_loc: 0.007  time: 0.2712  data_time: 0.0031  lr: 0.000250  max_mem: 2412M\n",
      "\u001b[32m[03/10 20:59:08 d2.utils.events]: \u001b[0m eta: 0:00:00  iter: 1999  total_loss: 0.220  loss_cls: 0.031  loss_box_reg: 0.183  loss_rpn_cls: 0.001  loss_rpn_loc: 0.007  time: 0.2712  data_time: 0.0030  lr: 0.000250  max_mem: 2412M\n",
      "\u001b[32m[03/10 20:59:10 d2.engine.hooks]: \u001b[0mOverall training speed: 1997 iterations in 0:09:01 (0.2714 s / it)\n",
      "\u001b[32m[03/10 20:59:10 d2.engine.hooks]: \u001b[0mTotal training time: 0:09:05 (0:00:03 on hooks)\n"
     ]
    }
   ],
   "source": [
    "N_classes = 4\n",
    "trainer, cfg = prepare_for_training(2000, \n",
    "                                    'logo_detector_output', \n",
    "                                    'logo_detector/combined_train', \n",
    "                                    N_classes, \n",
    "                                    start_training=True)"
   ]
  },
  {
   "cell_type": "code",
   "execution_count": 34,
   "metadata": {
    "scrolled": true
   },
   "outputs": [
    {
     "name": "stdout",
     "output_type": "stream",
     "text": [
      "Reading weights from output dir: logo_detector_output\n"
     ]
    }
   ],
   "source": [
    "#trainer_discard, cfg = prepare_for_training(2000, \n",
    "#                                            'logo_detector_output', \n",
    "#                                            'logo_detector/combined_train', \n",
    "#                                            4, \n",
    "#                                            start_training=False)\n",
    "predictor = prepare_for_inference(cfg, 'logo_detector/combined_test', threshold=0.50)"
   ]
  },
  {
   "cell_type": "code",
   "execution_count": 35,
   "metadata": {
    "scrolled": false
   },
   "outputs": [
    {
     "data": {
      "image/png": "[encoded data removed]",
      "text/plain": [
       "<Figure size 720x720 with 1 Axes>"
      ]
     },
     "metadata": {
      "needs_background": "light"
     },
     "output_type": "display_data"
    }
   ],
   "source": [
    "plt.figure(figsize=(10,10))\n",
    "_ = infer_img(predictor, 'logo_detector/combined/test/rh_jnptos.png', logo_train_metadata)"
   ]
  },
  {
   "cell_type": "markdown",
   "metadata": {},
   "source": [
    "#### Model Metrics"
   ]
  },
  {
   "cell_type": "markdown",
   "metadata": {},
   "source": [
    "##### How do we measure the performance of an object detection model?\n",
    "\n",
    "###### Binary classification\n",
    "At the highest level, object detection is a classification task and all the usual metrics - true positives (TP), false positives (FP), true negatives (TN), false negatives (FN), area under the curve (AUC), precision, recall etc. apply.\n",
    "\n",
    "For completeness, we'll quicky recap these for binary classification. We are given two classes, denoted by 0 and 1. Our predictions are **scores** between 0 and 1. We can pick a threshold $\\delta$ such that any predicted score, $s > \\delta$ is treated as a prediction of class 1 and any predicted score $s \\leq \\delta$ is treated as a prediction of class 0.\n",
    "\n",
    "Once we have these predictions, we can compute a confusion matrix consisting of four quantities:\n",
    "\n",
    "True positives: # examples with label = 1 and predicted = 1\n",
    "\n",
    "False positives: # examples with label = 0 and predicted = 1\n",
    "\n",
    "True negatives: # examples with label = 0 and predicted = 0\n",
    "\n",
    "False negatives: # examples with label = 1 and predicted = 0\n",
    "\n",
    "These names are a bit obnoxious but an easy way to remember the names is: the \"true\"/\"false\" part refers to whether the prediction was correct or incorrect. The \"positive\"/\"negative\" part refers to the predictions 1/0. So false positives refers to the number of examples that were predicted incorrectly and were predicted to be positive (1). In other words, their actual labels were 0 but they were predicted to be 1.\n",
    "\n",
    "At this stage, we can define operationally meaningful quantities like:\n",
    "\n",
    "**Precision**: $\\frac{\\text{TP}}{\\text{TP} + \\text{FP}}$\n",
    "\n",
    "The denominator is the number of all examples that are *predicted* to be positive and the numerator is the number of positive predictions that were correct. If a model is running in production, this quantity defines on useful it would be. For example, if our task was whether a credit card transaction is fraudulent or not, precision would tell us what percentage of the transactions flagged by our model are actually fraudulent. Informally, a high precision would make our job as the human operators easy because we can \"trust\" the model's flagged transactions to be actually fraudulent.\n",
    "\n",
    "**Recall**: $\\frac{\\text{TP}}{\\text{TP} + \\text{FN}}$\n",
    "\n",
    "The denominator here is the number of all examples that were *labeled* positive. This is because FN is the number of examples that were predicted incorrectly to be negative (0). That means their labels were positive (1).\n",
    "\n",
    "Recall tells us what percentage of the actual positive examples in the dataset that were predicted correctly to be positive. In our credit card example, this is the percentage of training/validation transactions that were labelled as fraudulent and were predicted correctly. \n",
    "\n",
    "Generally, there is a tradeoff between precision and recall. High recall means the model predicts more of the actual positives to be positive but at the cost of leaking in some false positives which brings the precision lower.\n",
    "\n",
    "**Precision-Recall Curve**: Since both precision and recall depend on the threshold, $\\delta$, we usually vary $\\delta$ from 0 to 1 and measure the precision and recall at each threshold. This gives us a parameterized curve in the precision-recall space. We can measure the area under this curve to get one metric that expresses how good the model is. \n",
    "\n",
    "INSERT PICTURE\n",
    "\n",
    "Generally a smoothing/interpolation operation is done before computing the area. The idea is to compute an \"interpolated\" precision for each recall value in our plot. The intuition is very simple: For a fixed recall $r_i$, we have a fixed precision $p_i$ where i = $1,2,\\ldots,n$ denotes the n threshold, $\\delta_i$ we chose (in increasing order). In practice, if we had a recall $r_j$ that was higher than $r_i$ with a corresponding precision $p_j$ that was also higher than $p_i$, then naturally we would choose the point with both the higher precision and higher recall. Generally this doesn't happen because of the precision-recall tradeoff but the tradeoff isn't strict and in practice, it does get violated for individual points.\n",
    "\n",
    "In this case, we take our original point $r_i$ and assign it an interpolated precision:\n",
    "\n",
    "$$p_{\\text{interp},i} = \\max_{j \\geq i} p_j$$\n",
    "\n",
    "All we are saying here is that if we find any point with a higher recall and a higher precision, then we can safely presume that we can get the same recall $r_i$ with the higher precision. Geometrically, this has the effect of removing the spikiness of the precision-recall curve. Now, we can numerically compute the area under the curve.\n",
    "\n",
    "$AP = \\Sigma_{i} p_{\\text{interp},i+1}(r_{i+1}-r_{i})$\n",
    "\n",
    "where AP stands for average precision.\n",
    "\n",
    "For classification tasks with K classes, one can define the **mean Averaged Precision (mAP)** as\n",
    "\n",
    "$mAP = \\frac{1}{K} \\Sigma_{i=1}^K AP(i)$\n",
    "\n",
    "where we just average the average precisions compute for each of the K binary classification problems (1 vs all).\n",
    "\n",
    "###### Object Detection\n",
    "\n",
    "Let's move on to object detection now. Across all our images, we have labeled bounding boxes (rectangles), and the predictions are bounding boxes with an additional classification score, s between 0 and 1, just like the classification problem above.\n",
    "\n",
    "Question: how do we decide if a predicted bounding box is correct or incorrect?\n",
    "\n",
    "In this case, we need two thresholds. The first threshold, $\\delta$ tells us whether a classification score is high enough or not. If $s \\geq \\delta$, we consider the predicted box and if $s \\leq \\delta$, we discard the box as a noisy artifact.\n",
    "\n",
    "Now we have a list of labeled boxes as well as high confidence predicted boxes. But they won't overlap perfectly. The natural approach is to look at the overlap in area between a labeled box and a predicted box. If this overlap is greater than some threshold, $\\tau$, then we can potentially consider the prediction to be correct and if the overlap is less than the threshold, then that particular predicted box is incorrect for the labeled box.\n",
    "\n",
    "The overlap is measured by looking at intersection-over-union (IoU), which can be used to compute the overlap between any two sets, A and B as:\n",
    "\n",
    "$IoU(A,B) = \\frac{|A \\cap B|}{|A \\cup B|}$\n",
    "\n",
    "where $|A|$ denotes the cardinality or size of the set.\n",
    "\n",
    "Till now, we have the following two steps:\n",
    "\n",
    "1. Discard all predicted bounding boxes with classification score, $s \\leq \\delta$. We treat this boxes as false negatives.\n",
    "\n",
    "2. For a given predicted box and label box, compute IoU(pred,label). If $IoU \\geq \\tau$, then we consider the prediction to be correct for this box.\n",
    "\n",
    "What can go wrong here? What if there are two predicted boxes that are shifted just slightly from each other and overlap with a label box. In this case, we would get two true positive counts when we are just duplicating the same prediction. To "
   ]
  },
  {
   "cell_type": "code",
   "execution_count": 36,
   "metadata": {},
   "outputs": [],
   "source": [
    "DatasetCatalog.clear()\n",
    "MetadataCatalog._NAME_TO_META = {}"
   ]
  },
  {
   "cell_type": "code",
   "execution_count": 37,
   "metadata": {},
   "outputs": [
    {
     "name": "stdout",
     "output_type": "stream",
     "text": [
      "['sas', 'rh', 'anaconda', 'cloudera']\n"
     ]
    }
   ],
   "source": [
    "#register datasets\n",
    "\n",
    "#get labels\n",
    "labels = list(pd.read_csv('logo_detector/combined/train/labels.csv')['class'].unique())\n",
    "print(labels)    \n",
    "\n",
    "register('logo_detector/combined', labels, ['train', 'test'])"
   ]
  },
  {
   "cell_type": "code",
   "execution_count": null,
   "metadata": {},
   "outputs": [],
   "source": [
    "trainer, cfg = prepare_for_training(2000, \n",
    "                                    'logo_detector_output', \n",
    "                                    'logo_detector/combined_train', \n",
    "                                    4, \n",
    "                                    start_training=False)\n",
    "predictor = prepare_for_inference(cfg, 'logo_detector/combined_test', threshold=0.50)"
   ]
  },
  {
   "cell_type": "code",
   "execution_count": 38,
   "metadata": {},
   "outputs": [
    {
     "data": {
      "text/plain": [
       "['logo_detector/combined_train', 'logo_detector/combined_test']"
      ]
     },
     "execution_count": 38,
     "metadata": {},
     "output_type": "execute_result"
    }
   ],
   "source": [
    "MetadataCatalog.list()"
   ]
  },
  {
   "cell_type": "code",
   "execution_count": 39,
   "metadata": {},
   "outputs": [
    {
     "name": "stdout",
     "output_type": "stream",
     "text": [
      "\u001b[5m\u001b[31mWARNING\u001b[0m \u001b[32m[03/10 21:22:32 d2.evaluation.coco_evaluation]: \u001b[0mjson_file was not found in MetaDataCatalog for 'logo_detector/combined_train'. Trying to convert it to COCO format ...\n",
      "\u001b[32m[03/10 21:22:32 d2.data.datasets.coco]: \u001b[0mCached annotations in COCO format already exist: logo_detector_output/logo_detector/combined_train_coco_format.json\n"
     ]
    }
   ],
   "source": [
    "train_evaluator = COCOEvaluator('logo_detector/combined_train', cfg, False, output_dir=\"logo_detector_output\")"
   ]
  },
  {
   "cell_type": "code",
   "execution_count": 40,
   "metadata": {},
   "outputs": [
    {
     "data": {
      "text/plain": [
       "Metadata(json_file='logo_detector_output/logo_detector/combined_train_coco_format.json', name='logo_detector/combined_train', thing_classes=['sas', 'rh', 'anaconda', 'cloudera'])"
      ]
     },
     "execution_count": 40,
     "metadata": {},
     "output_type": "execute_result"
    }
   ],
   "source": [
    "MetadataCatalog.get('logo_detector/combined_train')"
   ]
  },
  {
   "cell_type": "code",
   "execution_count": 43,
   "metadata": {},
   "outputs": [
    {
     "name": "stdout",
     "output_type": "stream",
     "text": [
      "\u001b[32m[03/10 21:23:23 d2.data.common]: \u001b[0mSerializing 512 elements to byte tensors and concatenating them all ...\n",
      "\u001b[32m[03/10 21:23:23 d2.data.common]: \u001b[0mSerialized dataset takes 0.11 MiB\n"
     ]
    }
   ],
   "source": [
    "train_loader = build_detection_test_loader(cfg, \"logo_detector/combined_train\")"
   ]
  },
  {
   "cell_type": "code",
   "execution_count": 44,
   "metadata": {
    "scrolled": false
   },
   "outputs": [
    {
     "name": "stdout",
     "output_type": "stream",
     "text": [
      "\u001b[32m[03/10 21:23:26 d2.evaluation.evaluator]: \u001b[0mStart inference on 512 images\n",
      "\u001b[32m[03/10 21:23:28 d2.evaluation.evaluator]: \u001b[0mInference done 11/512. 0.1493 s / img. ETA=0:01:15\n",
      "\u001b[32m[03/10 21:23:33 d2.evaluation.evaluator]: \u001b[0mInference done 44/512. 0.1543 s / img. ETA=0:01:12\n",
      "\u001b[32m[03/10 21:23:38 d2.evaluation.evaluator]: \u001b[0mInference done 77/512. 0.1537 s / img. ETA=0:01:07\n",
      "\u001b[32m[03/10 21:23:43 d2.evaluation.evaluator]: \u001b[0mInference done 110/512. 0.1534 s / img. ETA=0:01:02\n",
      "\u001b[32m[03/10 21:23:48 d2.evaluation.evaluator]: \u001b[0mInference done 142/512. 0.1540 s / img. ETA=0:00:57\n",
      "\u001b[32m[03/10 21:23:53 d2.evaluation.evaluator]: \u001b[0mInference done 176/512. 0.1529 s / img. ETA=0:00:51\n",
      "\u001b[32m[03/10 21:23:58 d2.evaluation.evaluator]: \u001b[0mInference done 209/512. 0.1525 s / img. ETA=0:00:46\n",
      "\u001b[32m[03/10 21:24:03 d2.evaluation.evaluator]: \u001b[0mInference done 244/512. 0.1513 s / img. ETA=0:00:40\n",
      "\u001b[32m[03/10 21:24:08 d2.evaluation.evaluator]: \u001b[0mInference done 279/512. 0.1505 s / img. ETA=0:00:35\n",
      "\u001b[32m[03/10 21:24:13 d2.evaluation.evaluator]: \u001b[0mInference done 314/512. 0.1496 s / img. ETA=0:00:29\n",
      "\u001b[32m[03/10 21:24:18 d2.evaluation.evaluator]: \u001b[0mInference done 347/512. 0.1497 s / img. ETA=0:00:24\n",
      "\u001b[32m[03/10 21:24:23 d2.evaluation.evaluator]: \u001b[0mInference done 382/512. 0.1490 s / img. ETA=0:00:19\n",
      "\u001b[32m[03/10 21:24:28 d2.evaluation.evaluator]: \u001b[0mInference done 414/512. 0.1495 s / img. ETA=0:00:14\n",
      "\u001b[32m[03/10 21:24:33 d2.evaluation.evaluator]: \u001b[0mInference done 447/512. 0.1497 s / img. ETA=0:00:09\n",
      "\u001b[32m[03/10 21:24:38 d2.evaluation.evaluator]: \u001b[0mInference done 479/512. 0.1503 s / img. ETA=0:00:04\n",
      "\u001b[32m[03/10 21:24:43 d2.evaluation.evaluator]: \u001b[0mInference done 511/512. 0.1507 s / img. ETA=0:00:00\n",
      "\u001b[32m[03/10 21:24:44 d2.evaluation.evaluator]: \u001b[0mTotal inference time: 0:01:17.157145 (0.152184 s / img per device, on 1 devices)\n",
      "\u001b[32m[03/10 21:24:44 d2.evaluation.evaluator]: \u001b[0mTotal inference pure compute time: 0:01:16 (0.150704 s / img per device, on 1 devices)\n",
      "\u001b[32m[03/10 21:24:44 d2.evaluation.coco_evaluation]: \u001b[0mPreparing results for COCO format ...\n",
      "\u001b[32m[03/10 21:24:44 d2.evaluation.coco_evaluation]: \u001b[0mSaving results to logo_detector_output/coco_instances_results.json\n",
      "\u001b[32m[03/10 21:24:44 d2.evaluation.coco_evaluation]: \u001b[0mEvaluating predictions ...\n",
      "Loading and preparing results...\n",
      "DONE (t=0.00s)\n",
      "creating index...\n",
      "index created!\n",
      "Running per image evaluation...\n",
      "Evaluate annotation type *bbox*\n",
      "DONE (t=0.29s).\n",
      "Accumulating evaluation results...\n",
      "DONE (t=0.07s).\n",
      " Average Precision  (AP) @[ IoU=0.50:0.95 | area=   all | maxDets=100 ] = 0.796\n",
      " Average Precision  (AP) @[ IoU=0.50      | area=   all | maxDets=100 ] = 1.000\n",
      " Average Precision  (AP) @[ IoU=0.75      | area=   all | maxDets=100 ] = 0.929\n",
      " Average Precision  (AP) @[ IoU=0.50:0.95 | area= small | maxDets=100 ] = -1.000\n",
      " Average Precision  (AP) @[ IoU=0.50:0.95 | area=medium | maxDets=100 ] = -1.000\n",
      " Average Precision  (AP) @[ IoU=0.50:0.95 | area= large | maxDets=100 ] = 0.796\n",
      " Average Recall     (AR) @[ IoU=0.50:0.95 | area=   all | maxDets=  1 ] = 0.850\n",
      " Average Recall     (AR) @[ IoU=0.50:0.95 | area=   all | maxDets= 10 ] = 0.850\n",
      " Average Recall     (AR) @[ IoU=0.50:0.95 | area=   all | maxDets=100 ] = 0.850\n",
      " Average Recall     (AR) @[ IoU=0.50:0.95 | area= small | maxDets=100 ] = -1.000\n",
      " Average Recall     (AR) @[ IoU=0.50:0.95 | area=medium | maxDets=100 ] = -1.000\n",
      " Average Recall     (AR) @[ IoU=0.50:0.95 | area= large | maxDets=100 ] = 0.850\n",
      "\u001b[32m[03/10 21:24:44 d2.evaluation.coco_evaluation]: \u001b[0mEvaluation results for bbox: \n",
      "|   AP   |  AP50   |  AP75  |  APs  |  APm  |  APl   |\n",
      "|:------:|:-------:|:------:|:-----:|:-----:|:------:|\n",
      "| 79.644 | 100.000 | 92.852 |  nan  |  nan  | 79.644 |\n",
      "\u001b[32m[03/10 21:24:44 d2.evaluation.coco_evaluation]: \u001b[0mNote that some metrics cannot be computed.\n",
      "\u001b[32m[03/10 21:24:44 d2.evaluation.coco_evaluation]: \u001b[0mPer-category bbox AP: \n",
      "| category   | AP     | category   | AP     | category   | AP     |\n",
      "|:-----------|:-------|:-----------|:-------|:-----------|:-------|\n",
      "| sas        | 82.582 | rh         | 79.009 | anaconda   | 86.847 |\n",
      "| cloudera   | 70.138 |            |        |            |        |\n"
     ]
    },
    {
     "data": {
      "text/plain": [
       "OrderedDict([('bbox',\n",
       "              {'AP': 79.64409151336775,\n",
       "               'AP50': 100.0,\n",
       "               'AP75': 92.85185255531513,\n",
       "               'APs': nan,\n",
       "               'APm': nan,\n",
       "               'APl': 79.64409151336775,\n",
       "               'AP-sas': 82.5824281290984,\n",
       "               'AP-rh': 79.00924387840708,\n",
       "               'AP-anaconda': 86.84715918153037,\n",
       "               'AP-cloudera': 70.13753486443517})])"
      ]
     },
     "execution_count": 44,
     "metadata": {},
     "output_type": "execute_result"
    }
   ],
   "source": [
    "train_metrics = inference_on_dataset(trainer.model, train_loader, train_evaluator)"
   ]
  },
  {
   "cell_type": "code",
   "execution_count": 45,
   "metadata": {},
   "outputs": [
    {
     "name": "stdout",
     "output_type": "stream",
     "text": [
      "\u001b[5m\u001b[31mWARNING\u001b[0m \u001b[32m[03/10 21:25:35 d2.evaluation.coco_evaluation]: \u001b[0mjson_file was not found in MetaDataCatalog for 'logo_detector/combined_test'. Trying to convert it to COCO format ...\n",
      "\u001b[32m[03/10 21:25:35 d2.data.datasets.coco]: \u001b[0mConverting dataset annotations in 'logo_detector/combined_test' to COCO format ...)\n",
      "\u001b[32m[03/10 21:25:35 d2.data.datasets.coco]: \u001b[0mConverting dataset dicts into COCO format\n",
      "\u001b[32m[03/10 21:25:35 d2.data.datasets.coco]: \u001b[0mConversion finished, num images: 512, num annotations: 512\n",
      "\u001b[32m[03/10 21:25:35 d2.data.datasets.coco]: \u001b[0mCaching annotations in COCO format: logo_detector_output/logo_detector/combined_test_coco_format.json\n"
     ]
    }
   ],
   "source": [
    "test_evaluator = COCOEvaluator('logo_detector/combined_test', cfg, False, output_dir=\"logo_detector_output\")"
   ]
  },
  {
   "cell_type": "code",
   "execution_count": 46,
   "metadata": {},
   "outputs": [
    {
     "name": "stdout",
     "output_type": "stream",
     "text": [
      "\u001b[32m[03/10 21:25:49 d2.data.common]: \u001b[0mSerializing 512 elements to byte tensors and concatenating them all ...\n",
      "\u001b[32m[03/10 21:25:49 d2.data.common]: \u001b[0mSerialized dataset takes 0.11 MiB\n"
     ]
    }
   ],
   "source": [
    "test_loader = build_detection_test_loader(cfg, \"logo_detector/combined_test\")"
   ]
  },
  {
   "cell_type": "code",
   "execution_count": 47,
   "metadata": {},
   "outputs": [
    {
     "name": "stdout",
     "output_type": "stream",
     "text": [
      "\u001b[32m[03/10 21:26:09 d2.evaluation.evaluator]: \u001b[0mStart inference on 512 images\n",
      "\u001b[32m[03/10 21:26:11 d2.evaluation.evaluator]: \u001b[0mInference done 11/512. 0.1584 s / img. ETA=0:01:19\n",
      "\u001b[32m[03/10 21:26:16 d2.evaluation.evaluator]: \u001b[0mInference done 44/512. 0.1538 s / img. ETA=0:01:12\n",
      "\u001b[32m[03/10 21:26:21 d2.evaluation.evaluator]: \u001b[0mInference done 76/512. 0.1543 s / img. ETA=0:01:07\n",
      "\u001b[32m[03/10 21:26:26 d2.evaluation.evaluator]: \u001b[0mInference done 110/512. 0.1523 s / img. ETA=0:01:01\n",
      "\u001b[32m[03/10 21:26:31 d2.evaluation.evaluator]: \u001b[0mInference done 143/512. 0.1525 s / img. ETA=0:00:56\n",
      "\u001b[32m[03/10 21:26:36 d2.evaluation.evaluator]: \u001b[0mInference done 177/512. 0.1515 s / img. ETA=0:00:51\n",
      "\u001b[32m[03/10 21:26:41 d2.evaluation.evaluator]: \u001b[0mInference done 210/512. 0.1514 s / img. ETA=0:00:46\n",
      "\u001b[32m[03/10 21:26:46 d2.evaluation.evaluator]: \u001b[0mInference done 244/512. 0.1509 s / img. ETA=0:00:40\n",
      "\u001b[32m[03/10 21:26:51 d2.evaluation.evaluator]: \u001b[0mInference done 279/512. 0.1501 s / img. ETA=0:00:35\n",
      "\u001b[32m[03/10 21:26:56 d2.evaluation.evaluator]: \u001b[0mInference done 314/512. 0.1494 s / img. ETA=0:00:29\n",
      "\u001b[32m[03/10 21:27:01 d2.evaluation.evaluator]: \u001b[0mInference done 350/512. 0.1485 s / img. ETA=0:00:24\n",
      "\u001b[32m[03/10 21:27:06 d2.evaluation.evaluator]: \u001b[0mInference done 386/512. 0.1477 s / img. ETA=0:00:18\n",
      "\u001b[32m[03/10 21:27:11 d2.evaluation.evaluator]: \u001b[0mInference done 417/512. 0.1487 s / img. ETA=0:00:14\n",
      "\u001b[32m[03/10 21:27:17 d2.evaluation.evaluator]: \u001b[0mInference done 450/512. 0.1490 s / img. ETA=0:00:09\n",
      "\u001b[32m[03/10 21:27:22 d2.evaluation.evaluator]: \u001b[0mInference done 484/512. 0.1491 s / img. ETA=0:00:04\n",
      "\u001b[32m[03/10 21:27:26 d2.evaluation.evaluator]: \u001b[0mTotal inference time: 0:01:16.361336 (0.150614 s / img per device, on 1 devices)\n",
      "\u001b[32m[03/10 21:27:26 d2.evaluation.evaluator]: \u001b[0mTotal inference pure compute time: 0:01:15 (0.149232 s / img per device, on 1 devices)\n",
      "\u001b[32m[03/10 21:27:26 d2.evaluation.coco_evaluation]: \u001b[0mPreparing results for COCO format ...\n",
      "\u001b[32m[03/10 21:27:26 d2.evaluation.coco_evaluation]: \u001b[0mSaving results to logo_detector_output/coco_instances_results.json\n",
      "\u001b[32m[03/10 21:27:26 d2.evaluation.coco_evaluation]: \u001b[0mEvaluating predictions ...\n",
      "Loading and preparing results...\n",
      "DONE (t=0.00s)\n",
      "creating index...\n",
      "index created!\n",
      "Running per image evaluation...\n",
      "Evaluate annotation type *bbox*\n",
      "DONE (t=0.41s).\n",
      "Accumulating evaluation results...\n",
      "DONE (t=0.07s).\n",
      " Average Precision  (AP) @[ IoU=0.50:0.95 | area=   all | maxDets=100 ] = 0.768\n",
      " Average Precision  (AP) @[ IoU=0.50      | area=   all | maxDets=100 ] = 1.000\n",
      " Average Precision  (AP) @[ IoU=0.75      | area=   all | maxDets=100 ] = 0.895\n",
      " Average Precision  (AP) @[ IoU=0.50:0.95 | area= small | maxDets=100 ] = -1.000\n",
      " Average Precision  (AP) @[ IoU=0.50:0.95 | area=medium | maxDets=100 ] = -1.000\n",
      " Average Precision  (AP) @[ IoU=0.50:0.95 | area= large | maxDets=100 ] = 0.768\n",
      " Average Recall     (AR) @[ IoU=0.50:0.95 | area=   all | maxDets=  1 ] = 0.830\n",
      " Average Recall     (AR) @[ IoU=0.50:0.95 | area=   all | maxDets= 10 ] = 0.830\n",
      " Average Recall     (AR) @[ IoU=0.50:0.95 | area=   all | maxDets=100 ] = 0.830\n",
      " Average Recall     (AR) @[ IoU=0.50:0.95 | area= small | maxDets=100 ] = -1.000\n",
      " Average Recall     (AR) @[ IoU=0.50:0.95 | area=medium | maxDets=100 ] = -1.000\n",
      " Average Recall     (AR) @[ IoU=0.50:0.95 | area= large | maxDets=100 ] = 0.830\n",
      "\u001b[32m[03/10 21:27:27 d2.evaluation.coco_evaluation]: \u001b[0mEvaluation results for bbox: \n",
      "|   AP   |  AP50   |  AP75  |  APs  |  APm  |  APl   |\n",
      "|:------:|:-------:|:------:|:-----:|:-----:|:------:|\n",
      "| 76.844 | 100.000 | 89.538 |  nan  |  nan  | 76.844 |\n",
      "\u001b[32m[03/10 21:27:27 d2.evaluation.coco_evaluation]: \u001b[0mNote that some metrics cannot be computed.\n",
      "\u001b[32m[03/10 21:27:27 d2.evaluation.coco_evaluation]: \u001b[0mPer-category bbox AP: \n",
      "| category   | AP     | category   | AP     | category   | AP     |\n",
      "|:-----------|:-------|:-----------|:-------|:-----------|:-------|\n",
      "| sas        | 78.913 | rh         | 78.259 | anaconda   | 83.086 |\n",
      "| cloudera   | 67.119 |            |        |            |        |\n"
     ]
    }
   ],
   "source": [
    "test_metrics = inference_on_dataset(trainer.model, test_loader, test_evaluator)"
   ]
  },
  {
   "cell_type": "markdown",
   "metadata": {},
   "source": [
    "#### Model Persistence and Loading"
   ]
  },
  {
   "cell_type": "markdown",
   "metadata": {},
   "source": [
    "Note: do we really need ONNX?"
   ]
  },
  {
   "cell_type": "code",
   "execution_count": null,
   "metadata": {},
   "outputs": [],
   "source": []
  }
 ],
 "metadata": {
  "kernelspec": {
   "display_name": "Python 3",
   "language": "python",
   "name": "python3"
  },
  "language_info": {
   "codemirror_mode": {
    "name": "ipython",
    "version": 3
   },
   "file_extension": ".py",
   "mimetype": "text/x-python",
   "name": "python",
   "nbconvert_exporter": "python",
   "pygments_lexer": "ipython3",
   "version": "3.7.6"
  }
 },
 "nbformat": 4,
 "nbformat_minor": 4
}
